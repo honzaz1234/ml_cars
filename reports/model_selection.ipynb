{
 "cells": [
  {
   "cell_type": "code",
   "execution_count": 3,
   "metadata": {},
   "outputs": [],
   "source": [
    "from sklearn.preprocessing import StandardScaler\n",
    "from ml_summary import *"
   ]
  },
  {
   "cell_type": "code",
   "execution_count": 4,
   "metadata": {},
   "outputs": [],
   "source": [
    "int_remove_cols = [\"carmaker\", \"transmission\", \"drive\", \"car_style\",\n",
    "                    \"emission_class\", \"door_count\", \"color\", \"carmaker_volkswagen\", \"transmission_manual\", \"drive_4x2\", \"car_style_sedan\", \"door_count_4_5\", \"color_s\", \"country_origin_Germany\", 'emission_class_old', 'fuel_type', 'fuel_type_petrol', 'country_origin']\n",
    "int_cont_cols = [\"power\", \"cubic_capacity\", \n",
    "                 \"fuel_consumption_combined\", \"co2_emission\", \"vehicle_age\"]"
   ]
  },
  {
   "cell_type": "code",
   "execution_count": 5,
   "metadata": {},
   "outputs": [],
   "source": [
    "df_comparison = pd.DataFrame(columns=[\"method\", \"MSE_train\", \"MAD_train\",\n",
    "                                       \"R2_train\", \"MSE_test\", \"MAD_test\", \"R2_test\"])"
   ]
  },
  {
   "cell_type": "markdown",
   "metadata": {},
   "source": [
    "# Introduction"
   ]
  },
  {
   "cell_type": "markdown",
   "metadata": {},
   "source": [
    "Following report is dedicated to finding a model and its specification that can be used for the most accurate price prediction in our data set. In the estimation of the individual models, we will use 9:1 train test ratio, and three fold cross validation when training the models. The best fits will be selected based on the value of mean squared error. In order to explore different model specifications I use GrindSearchCV function from sklearn package. Following models will be tried: OLS, KNN Regression, Decison Tree Regression, Random Forrest Regression, XGBoost Tree Regression."
   ]
  },
  {
   "cell_type": "code",
   "execution_count": 6,
   "metadata": {},
   "outputs": [
    {
     "data": {
      "text/html": [
       "<div>\n",
       "<style scoped>\n",
       "    .dataframe tbody tr th:only-of-type {\n",
       "        vertical-align: middle;\n",
       "    }\n",
       "\n",
       "    .dataframe tbody tr th {\n",
       "        vertical-align: top;\n",
       "    }\n",
       "\n",
       "    .dataframe thead th {\n",
       "        text-align: right;\n",
       "    }\n",
       "</style>\n",
       "<table border=\"1\" class=\"dataframe\">\n",
       "  <thead>\n",
       "    <tr style=\"text-align: right;\">\n",
       "      <th></th>\n",
       "      <th>power</th>\n",
       "      <th>cubic_capacity</th>\n",
       "      <th>fuel_consumption_combined</th>\n",
       "      <th>co2_emission</th>\n",
       "      <th>mileage</th>\n",
       "      <th>vehicle_age</th>\n",
       "      <th>carmaker_audi</th>\n",
       "      <th>carmaker_bmw</th>\n",
       "      <th>carmaker_citroen</th>\n",
       "      <th>carmaker_dacia</th>\n",
       "      <th>...</th>\n",
       "      <th>country_origin_Italy</th>\n",
       "      <th>country_origin_Luxembourg</th>\n",
       "      <th>country_origin_Netherlands</th>\n",
       "      <th>country_origin_Poland</th>\n",
       "      <th>country_origin_Romania</th>\n",
       "      <th>country_origin_Slovakia</th>\n",
       "      <th>country_origin_Spain</th>\n",
       "      <th>country_origin_Sweden</th>\n",
       "      <th>country_origin</th>\n",
       "      <th>price</th>\n",
       "    </tr>\n",
       "  </thead>\n",
       "  <tbody>\n",
       "    <tr>\n",
       "      <th>0</th>\n",
       "      <td>52.0</td>\n",
       "      <td>1.193</td>\n",
       "      <td>4.5</td>\n",
       "      <td>104.0</td>\n",
       "      <td>0.000</td>\n",
       "      <td>113</td>\n",
       "      <td>False</td>\n",
       "      <td>False</td>\n",
       "      <td>False</td>\n",
       "      <td>False</td>\n",
       "      <td>...</td>\n",
       "      <td>False</td>\n",
       "      <td>False</td>\n",
       "      <td>False</td>\n",
       "      <td>False</td>\n",
       "      <td>False</td>\n",
       "      <td>False</td>\n",
       "      <td>False</td>\n",
       "      <td>False</td>\n",
       "      <td>Germany</td>\n",
       "      <td>361990</td>\n",
       "    </tr>\n",
       "    <tr>\n",
       "      <th>1</th>\n",
       "      <td>75.0</td>\n",
       "      <td>1.598</td>\n",
       "      <td>5.2</td>\n",
       "      <td>136.0</td>\n",
       "      <td>163.000</td>\n",
       "      <td>3188</td>\n",
       "      <td>False</td>\n",
       "      <td>False</td>\n",
       "      <td>False</td>\n",
       "      <td>False</td>\n",
       "      <td>...</td>\n",
       "      <td>False</td>\n",
       "      <td>False</td>\n",
       "      <td>False</td>\n",
       "      <td>False</td>\n",
       "      <td>False</td>\n",
       "      <td>False</td>\n",
       "      <td>False</td>\n",
       "      <td>False</td>\n",
       "      <td>Belgium</td>\n",
       "      <td>305490</td>\n",
       "    </tr>\n",
       "    <tr>\n",
       "      <th>2</th>\n",
       "      <td>66.0</td>\n",
       "      <td>1.197</td>\n",
       "      <td>4.7</td>\n",
       "      <td>107.0</td>\n",
       "      <td>78.560</td>\n",
       "      <td>2731</td>\n",
       "      <td>False</td>\n",
       "      <td>False</td>\n",
       "      <td>False</td>\n",
       "      <td>False</td>\n",
       "      <td>...</td>\n",
       "      <td>False</td>\n",
       "      <td>False</td>\n",
       "      <td>False</td>\n",
       "      <td>False</td>\n",
       "      <td>False</td>\n",
       "      <td>False</td>\n",
       "      <td>False</td>\n",
       "      <td>False</td>\n",
       "      <td>Germany</td>\n",
       "      <td>328990</td>\n",
       "    </tr>\n",
       "    <tr>\n",
       "      <th>3</th>\n",
       "      <td>120.0</td>\n",
       "      <td>1.997</td>\n",
       "      <td>6.9</td>\n",
       "      <td>179.0</td>\n",
       "      <td>124.516</td>\n",
       "      <td>4496</td>\n",
       "      <td>False</td>\n",
       "      <td>False</td>\n",
       "      <td>True</td>\n",
       "      <td>False</td>\n",
       "      <td>...</td>\n",
       "      <td>False</td>\n",
       "      <td>False</td>\n",
       "      <td>False</td>\n",
       "      <td>False</td>\n",
       "      <td>False</td>\n",
       "      <td>False</td>\n",
       "      <td>False</td>\n",
       "      <td>False</td>\n",
       "      <td>Germany</td>\n",
       "      <td>120490</td>\n",
       "    </tr>\n",
       "    <tr>\n",
       "      <th>4</th>\n",
       "      <td>92.0</td>\n",
       "      <td>1.000</td>\n",
       "      <td>6.0</td>\n",
       "      <td>134.0</td>\n",
       "      <td>43.800</td>\n",
       "      <td>2000</td>\n",
       "      <td>False</td>\n",
       "      <td>False</td>\n",
       "      <td>False</td>\n",
       "      <td>False</td>\n",
       "      <td>...</td>\n",
       "      <td>False</td>\n",
       "      <td>False</td>\n",
       "      <td>False</td>\n",
       "      <td>False</td>\n",
       "      <td>False</td>\n",
       "      <td>False</td>\n",
       "      <td>False</td>\n",
       "      <td>False</td>\n",
       "      <td>Germany</td>\n",
       "      <td>401490</td>\n",
       "    </tr>\n",
       "  </tbody>\n",
       "</table>\n",
       "<p>5 rows × 71 columns</p>\n",
       "</div>"
      ],
      "text/plain": [
       "   power  cubic_capacity  fuel_consumption_combined  co2_emission  mileage  \\\n",
       "0   52.0           1.193                        4.5         104.0    0.000   \n",
       "1   75.0           1.598                        5.2         136.0  163.000   \n",
       "2   66.0           1.197                        4.7         107.0   78.560   \n",
       "3  120.0           1.997                        6.9         179.0  124.516   \n",
       "4   92.0           1.000                        6.0         134.0   43.800   \n",
       "\n",
       "   vehicle_age  carmaker_audi  carmaker_bmw  carmaker_citroen  carmaker_dacia  \\\n",
       "0          113          False         False             False           False   \n",
       "1         3188          False         False             False           False   \n",
       "2         2731          False         False             False           False   \n",
       "3         4496          False         False              True           False   \n",
       "4         2000          False         False             False           False   \n",
       "\n",
       "   ...  country_origin_Italy  country_origin_Luxembourg  \\\n",
       "0  ...                 False                      False   \n",
       "1  ...                 False                      False   \n",
       "2  ...                 False                      False   \n",
       "3  ...                 False                      False   \n",
       "4  ...                 False                      False   \n",
       "\n",
       "   country_origin_Netherlands  country_origin_Poland  country_origin_Romania  \\\n",
       "0                       False                  False                   False   \n",
       "1                       False                  False                   False   \n",
       "2                       False                  False                   False   \n",
       "3                       False                  False                   False   \n",
       "4                       False                  False                   False   \n",
       "\n",
       "   country_origin_Slovakia  country_origin_Spain  country_origin_Sweden  \\\n",
       "0                    False                 False                  False   \n",
       "1                    False                 False                  False   \n",
       "2                    False                 False                  False   \n",
       "3                    False                 False                  False   \n",
       "4                    False                 False                  False   \n",
       "\n",
       "   country_origin   price  \n",
       "0         Germany  361990  \n",
       "1         Belgium  305490  \n",
       "2         Germany  328990  \n",
       "3         Germany  120490  \n",
       "4         Germany  401490  \n",
       "\n",
       "[5 rows x 71 columns]"
      ]
     },
     "execution_count": 6,
     "metadata": {},
     "output_type": "execute_result"
    }
   ],
   "source": [
    "#read data\n",
    "scaler = StandardScaler()\n",
    "data = pd.read_csv(\"../data/data_pred.csv\")\n",
    "data.head()"
   ]
  },
  {
   "cell_type": "code",
   "execution_count": 7,
   "metadata": {},
   "outputs": [
    {
     "name": "stderr",
     "output_type": "stream",
     "text": [
      "C:\\Users\\jziac\\AppData\\Local\\Temp\\ipykernel_20440\\2633086599.py:12: SettingWithCopyWarning: \n",
      "A value is trying to be set on a copy of a slice from a DataFrame.\n",
      "Try using .loc[row_indexer,col_indexer] = value instead\n",
      "\n",
      "See the caveats in the documentation: https://pandas.pydata.org/pandas-docs/stable/user_guide/indexing.html#returning-a-view-versus-a-copy\n",
      "  X[int_cont_cols] = scaler.fit_transform(X[int_cont_cols])\n"
     ]
    }
   ],
   "source": [
    "#prepare data for estimation\n",
    "columns =  data.columns\n",
    "x_columns = list(data.columns)\n",
    "x_columns.remove(\"price\")\n",
    "for column in data.select_dtypes(include=['bool']):\n",
    "    data[column] = data[column].astype(int) \n",
    "for col in int_remove_cols:\n",
    "    x_columns.remove(col)\n",
    "X = data[x_columns]\n",
    "\n",
    "#scale continous variables\n",
    "X[int_cont_cols] = scaler.fit_transform(X[int_cont_cols])\n",
    "\n",
    "#target variable - price  \n",
    "y = data[\"price\"]\n"
   ]
  },
  {
   "cell_type": "code",
   "execution_count": 8,
   "metadata": {},
   "outputs": [],
   "source": [
    "#class used for storing results using several different ML algorithms\n",
    "predict_num = PredictionSummary()\n",
    "#create train/test data sets inside class for estimation\n",
    "predict_num.load_data(X=X, y=y)"
   ]
  },
  {
   "cell_type": "markdown",
   "metadata": {},
   "source": [
    "## OLS"
   ]
  },
  {
   "cell_type": "code",
   "execution_count": 15,
   "metadata": {},
   "outputs": [
    {
     "name": "stdout",
     "output_type": "stream",
     "text": [
      "Fitting 3 folds for each of 1 candidates, totalling 3 fits\n",
      "[CV 1/3] END fit_intercept=True; neg_mean_absolute_error: (train=-166756.743, test=-167410.949) neg_mean_squared_error: (train=-109060085958.908, test=-113584049932.714) r2: (train=0.732, test=0.729) total time=   0.6s\n",
      "[CV 2/3] END fit_intercept=True; neg_mean_absolute_error: (train=-167603.662, test=-167914.343) neg_mean_squared_error: (train=-110950710209.075, test=-109818217618.593) r2: (train=0.730, test=0.732) total time=   0.5s\n",
      "[CV 3/3] END fit_intercept=True; neg_mean_absolute_error: (train=-168295.525, test=-167501.953) neg_mean_squared_error: (train=-111597728869.786, test=-108551507666.278) r2: (train=0.731, test=0.731) total time=   0.5s\n"
     ]
    },
    {
     "name": "stderr",
     "output_type": "stream",
     "text": [
      "c:\\Users\\jziac\\OneDrive\\Documents\\programovani\\projekty\\ml_cars\\reports\\ml_classes.py:122: FutureWarning: The behavior of DataFrame concatenation with empty or all-NA entries is deprecated. In a future version, this will no longer exclude empty or all-NA columns when determining the result dtypes. To retain the old behavior, exclude the relevant entries before the concat operation.\n",
      "  self.summary_df = pd.concat([self.summary_df, pd.DataFrame(stat_row, index=[self.df_index])])\n"
     ]
    },
    {
     "data": {
      "text/html": [
       "<div>\n",
       "<style scoped>\n",
       "    .dataframe tbody tr th:only-of-type {\n",
       "        vertical-align: middle;\n",
       "    }\n",
       "\n",
       "    .dataframe tbody tr th {\n",
       "        vertical-align: top;\n",
       "    }\n",
       "\n",
       "    .dataframe thead th {\n",
       "        text-align: right;\n",
       "    }\n",
       "</style>\n",
       "<table border=\"1\" class=\"dataframe\">\n",
       "  <thead>\n",
       "    <tr style=\"text-align: right;\">\n",
       "      <th></th>\n",
       "      <th>method</th>\n",
       "      <th>MSE_train</th>\n",
       "      <th>MAE_train</th>\n",
       "      <th>R2_train</th>\n",
       "      <th>MSE_valid</th>\n",
       "      <th>MAE_valid</th>\n",
       "      <th>R2_valid</th>\n",
       "      <th>MSE_test</th>\n",
       "      <th>MAE_test</th>\n",
       "      <th>R2_test</th>\n",
       "      <th>params</th>\n",
       "      <th>test_size</th>\n",
       "      <th>cv_n</th>\n",
       "      <th>iteration</th>\n",
       "    </tr>\n",
       "  </thead>\n",
       "  <tbody>\n",
       "    <tr>\n",
       "      <th>0</th>\n",
       "      <td>ols</td>\n",
       "      <td>-1.105362e+11</td>\n",
       "      <td>-167551.97663</td>\n",
       "      <td>0.730901</td>\n",
       "      <td>-1.106513e+11</td>\n",
       "      <td>-167609.08205</td>\n",
       "      <td>0.730629</td>\n",
       "      <td>113990066862.772217</td>\n",
       "      <td>168211.863199</td>\n",
       "      <td>0.729769</td>\n",
       "      <td>{\"fit_intercept\": true}</td>\n",
       "      <td>0.1</td>\n",
       "      <td>3</td>\n",
       "      <td>1</td>\n",
       "    </tr>\n",
       "  </tbody>\n",
       "</table>\n",
       "</div>"
      ],
      "text/plain": [
       "  method     MSE_train     MAE_train  R2_train     MSE_valid     MAE_valid  \\\n",
       "0    ols -1.105362e+11 -167551.97663  0.730901 -1.106513e+11 -167609.08205   \n",
       "\n",
       "   R2_valid             MSE_test       MAE_test   R2_test  \\\n",
       "0  0.730629  113990066862.772217  168211.863199  0.729769   \n",
       "\n",
       "                    params  test_size cv_n iteration  \n",
       "0  {\"fit_intercept\": true}        0.1    3         1  "
      ]
     },
     "execution_count": 15,
     "metadata": {},
     "output_type": "execute_result"
    }
   ],
   "source": [
    "param_grid = {\n",
    "    'fit_intercept': [True],  # List of possible values for n_neighbors\n",
    "}\n",
    "grid_search = predict_num.find_best_model(method=\"ols\", param_grid=param_grid)\n",
    "predict_num.estimate_test(grid_search, {'fit_intercept': True})\n",
    "predict_num.summary_df[summary_df['method'] == 'ols'].sort_values('R2_valid', ascending=False).head()"
   ]
  },
  {
   "cell_type": "markdown",
   "metadata": {},
   "source": [
    "Firstly, I attempted to predict the prices using the OLS. I tested only one model specification with all of the variables included in the estimation, nevertheless there seems to be very little difference in performacne between training validation and testing so the overfitting does not seem to be a problem in this case. The model was able to explain approximately 73 % of variance in all 3 phases and the mean absolute error was 167 500 which is obviously too much for the model to have any practictal use."
   ]
  },
  {
   "cell_type": "markdown",
   "metadata": {},
   "source": [
    "## K-nearest Neighbors"
   ]
  },
  {
   "cell_type": "code",
   "execution_count": 9,
   "metadata": {},
   "outputs": [
    {
     "name": "stdout",
     "output_type": "stream",
     "text": [
      "{'n_neighbors': 3}\n",
      "{'method': 'knreg', 'MSE_train': -18746012575.120937, 'MSE_valid': -39978290516.27935, 'MAD_train': -67738.78998082389, 'MAD_valid': -99507.14618756752, 'R2_valid': 0.9026563348313258, 'R2_train': 0.9543592446580654, 'params': '{\"n_neighbors\": 3}', 'iteration': 1, 'cv_n': 3, 'test_size': 0.09999999999999998}\n",
      "  method     MSE_train      MAD_train  R2_train     MSE_valid      MAD_valid  \\\n",
      "0    ols -1.108352e+11 -167494.258849  0.730173 -1.109501e+11 -167549.029815   \n",
      "\n",
      "   R2_valid             MSE_test      MAD_test   R2_test  \\\n",
      "0  0.729902  114249315327.194702  168154.31387  0.729155   \n",
      "\n",
      "                    params  test_size cv_n iteration  \n",
      "0  {\"fit_intercept\": true}        0.1    3         1  \n"
     ]
    },
    {
     "data": {
      "text/html": [
       "<div>\n",
       "<style scoped>\n",
       "    .dataframe tbody tr th:only-of-type {\n",
       "        vertical-align: middle;\n",
       "    }\n",
       "\n",
       "    .dataframe tbody tr th {\n",
       "        vertical-align: top;\n",
       "    }\n",
       "\n",
       "    .dataframe thead th {\n",
       "        text-align: right;\n",
       "    }\n",
       "</style>\n",
       "<table border=\"1\" class=\"dataframe\">\n",
       "  <thead>\n",
       "    <tr style=\"text-align: right;\">\n",
       "      <th></th>\n",
       "      <th>method</th>\n",
       "      <th>MSE_train</th>\n",
       "      <th>MAD_train</th>\n",
       "      <th>R2_train</th>\n",
       "      <th>MSE_valid</th>\n",
       "      <th>MAD_valid</th>\n",
       "      <th>R2_valid</th>\n",
       "      <th>MSE_test</th>\n",
       "      <th>MAD_test</th>\n",
       "      <th>R2_test</th>\n",
       "      <th>params</th>\n",
       "      <th>test_size</th>\n",
       "      <th>cv_n</th>\n",
       "      <th>iteration</th>\n",
       "    </tr>\n",
       "  </thead>\n",
       "  <tbody>\n",
       "    <tr>\n",
       "      <th>0</th>\n",
       "      <td>ols</td>\n",
       "      <td>-1.108352e+11</td>\n",
       "      <td>-167494.258849</td>\n",
       "      <td>0.730173</td>\n",
       "      <td>-1.109501e+11</td>\n",
       "      <td>-167549.029815</td>\n",
       "      <td>0.729902</td>\n",
       "      <td>114249315327.194702</td>\n",
       "      <td>168154.31387</td>\n",
       "      <td>0.729155</td>\n",
       "      <td>{\"fit_intercept\": true}</td>\n",
       "      <td>0.1</td>\n",
       "      <td>3</td>\n",
       "      <td>1</td>\n",
       "    </tr>\n",
       "    <tr>\n",
       "      <th>1</th>\n",
       "      <td>knreg</td>\n",
       "      <td>-1.874601e+10</td>\n",
       "      <td>-67738.789981</td>\n",
       "      <td>0.954359</td>\n",
       "      <td>-3.997829e+10</td>\n",
       "      <td>-99507.146188</td>\n",
       "      <td>0.902656</td>\n",
       "      <td>35755528274.089302</td>\n",
       "      <td>94426.014204</td>\n",
       "      <td>0.915236</td>\n",
       "      <td>{\"n_neighbors\": 3}</td>\n",
       "      <td>0.1</td>\n",
       "      <td>3</td>\n",
       "      <td>1</td>\n",
       "    </tr>\n",
       "  </tbody>\n",
       "</table>\n",
       "</div>"
      ],
      "text/plain": [
       "  method     MSE_train      MAD_train  R2_train     MSE_valid      MAD_valid  \\\n",
       "0    ols -1.108352e+11 -167494.258849  0.730173 -1.109501e+11 -167549.029815   \n",
       "1  knreg -1.874601e+10  -67738.789981  0.954359 -3.997829e+10  -99507.146188   \n",
       "\n",
       "   R2_valid             MSE_test      MAD_test   R2_test  \\\n",
       "0  0.729902  114249315327.194702  168154.31387  0.729155   \n",
       "1  0.902656   35755528274.089302  94426.014204  0.915236   \n",
       "\n",
       "                    params  test_size cv_n iteration  \n",
       "0  {\"fit_intercept\": true}        0.1    3         1  \n",
       "1       {\"n_neighbors\": 3}        0.1    3         1  "
      ]
     },
     "execution_count": 9,
     "metadata": {},
     "output_type": "execute_result"
    }
   ],
   "source": [
    "param_grid = {\n",
    "    'n_neighbors': [3, 7, 11],  # List of possible values for n_neighbors\n",
    "}\n",
    "grid_search_knreg = predict_num.find_best_model(\n",
    "    method=\"knreg\", param_grid=param_grid, n_jobs=5\n",
    "    )\n",
    "predict_num.summary_df[summary_df['method'] == 'knreg'].sort_values('R2_valid', ascending=False).head()"
   ]
  },
  {
   "cell_type": "code",
   "execution_count": null,
   "metadata": {},
   "outputs": [],
   "source": [
    "predict_num.estimate_test(grid_search_knreg, {\"n_neighbors\": 3})\n",
    "predict_num.summary_df[predict_num.summary_df['method'] == 'knreg'].sort_values('R2_valid', ascending=False).head()"
   ]
  },
  {
   "cell_type": "markdown",
   "metadata": {},
   "source": [
    "Secondly, I tried to predict the prices using K-nearest Neigbours regression, even though the method is better suited for analysis of smaller data set than the one I have available in this case. Given the long computation time, only 3 specifications were tried, different in number of neigbours that are used for calculation of the predicted values of which the version with smallest number of neighbours - 3 show the best results. In order to calculate distance between individual observations euclidean distance was used. The performance was improved significantly in comparison with the OLS, the KNN regression was able to explain over 90 % of the variation in the data but the mean absolute error was still quite high at almost 100000. "
   ]
  },
  {
   "cell_type": "markdown",
   "metadata": {},
   "source": [
    "## Decision Tree"
   ]
  },
  {
   "cell_type": "code",
   "execution_count": 16,
   "metadata": {},
   "outputs": [
    {
     "name": "stdout",
     "output_type": "stream",
     "text": [
      "Fitting 3 folds for each of 1 candidates, totalling 3 fits\n"
     ]
    },
    {
     "data": {
      "text/html": [
       "<div>\n",
       "<style scoped>\n",
       "    .dataframe tbody tr th:only-of-type {\n",
       "        vertical-align: middle;\n",
       "    }\n",
       "\n",
       "    .dataframe tbody tr th {\n",
       "        vertical-align: top;\n",
       "    }\n",
       "\n",
       "    .dataframe thead th {\n",
       "        text-align: right;\n",
       "    }\n",
       "</style>\n",
       "<table border=\"1\" class=\"dataframe\">\n",
       "  <thead>\n",
       "    <tr style=\"text-align: right;\">\n",
       "      <th></th>\n",
       "      <th>method</th>\n",
       "      <th>MSE_train</th>\n",
       "      <th>MAE_train</th>\n",
       "      <th>R2_train</th>\n",
       "      <th>MSE_valid</th>\n",
       "      <th>MAE_valid</th>\n",
       "      <th>R2_valid</th>\n",
       "      <th>MSE_test</th>\n",
       "      <th>MAE_test</th>\n",
       "      <th>R2_test</th>\n",
       "      <th>params</th>\n",
       "      <th>test_size</th>\n",
       "      <th>cv_n</th>\n",
       "      <th>iteration</th>\n",
       "    </tr>\n",
       "  </thead>\n",
       "  <tbody>\n",
       "    <tr>\n",
       "      <th>0</th>\n",
       "      <td>ols</td>\n",
       "      <td>-1.105362e+11</td>\n",
       "      <td>-167551.97663</td>\n",
       "      <td>0.730901</td>\n",
       "      <td>-1.106513e+11</td>\n",
       "      <td>-167609.08205</td>\n",
       "      <td>0.730629</td>\n",
       "      <td>113990066862.772217</td>\n",
       "      <td>168211.863199</td>\n",
       "      <td>0.729769</td>\n",
       "      <td>{\"fit_intercept\": true}</td>\n",
       "      <td>0.1</td>\n",
       "      <td>3</td>\n",
       "      <td>1</td>\n",
       "    </tr>\n",
       "  </tbody>\n",
       "</table>\n",
       "</div>"
      ],
      "text/plain": [
       "  method     MSE_train     MAE_train  R2_train     MSE_valid     MAE_valid  \\\n",
       "0    ols -1.105362e+11 -167551.97663  0.730901 -1.106513e+11 -167609.08205   \n",
       "\n",
       "   R2_valid             MSE_test       MAE_test   R2_test  \\\n",
       "0  0.730629  113990066862.772217  168211.863199  0.729769   \n",
       "\n",
       "                    params  test_size cv_n iteration  \n",
       "0  {\"fit_intercept\": true}        0.1    3         1  "
      ]
     },
     "execution_count": 16,
     "metadata": {},
     "output_type": "execute_result"
    }
   ],
   "source": [
    "param_grid = {\n",
    "    'max_depth': [4, 8, 12, 18, 24, 30, 36],\n",
    "      'min_samples_split': [8, 12, 14, 18, 24, 28]  # List of possible values for n_neighbors\n",
    "}\n",
    "grid_search_dtreg = predict_num.find_best_model(\n",
    "    method=\"dtreg\", param_grid=param_grid, n_jobs=5\n",
    "    )\n",
    "predict_num.summary_df[predict_num.summary_df['method'] == 'dtreg'].sort_values('R2_valid', ascending=False).head()"
   ]
  },
  {
   "cell_type": "code",
   "execution_count": null,
   "metadata": {},
   "outputs": [],
   "source": [
    "predict_num.estimate_test(\n",
    "    grid_search_dtreg, {\"max_depth\": 24, \"min_samples_split\": 18}\n",
    "    )\n",
    "predict_num.summary_df[predict_num.summary_df['method'] == 'dtreg'].sort_values('R2_valid', ascending=False).head()"
   ]
  },
  {
   "cell_type": "markdown",
   "metadata": {},
   "source": [
    "The using decision tree offers further improvement in the performance, the best models explains almost 94% of the variation in testing data set with mean absolute error approximately 74 700. Same as in the case of KNN regression there is quite a decrease in performance between training and testing data set but in comparison with the KNN offers more ways in which the overfitting can be dealt with. Only two parameters I tried to change were min sample split and max depth of the tree so there is definetly room for further imporvement but given that other method as random forrest or xgboost tree are to be expected to perform better than the simple decission tree I did not explore different model set ups further. "
   ]
  },
  {
   "cell_type": "markdown",
   "metadata": {},
   "source": [
    "# Random Forrest"
   ]
  },
  {
   "cell_type": "code",
   "execution_count": 12,
   "metadata": {},
   "outputs": [
    {
     "name": "stdout",
     "output_type": "stream",
     "text": [
      "Fitting 3 folds for each of 1 candidates, totalling 3 fits\n"
     ]
    }
   ],
   "source": [
    "param_grid = {\n",
    "    'max_depth': [36],\n",
    "      'min_samples_split': [18],\n",
    "        'n_estimators': [50] \n",
    "}\n",
    "grid_search_dtreg = predict_num.find_best_model(\n",
    "    method=\"rfreg\", param_grid=param_grid, n_jobs=7\n",
    "    )\n",
    "\n",
    "predict_num.summary_df[predict_num.summary_df['method'] == 'rfreg'].sort_values('R2_valid', ascending=False).head()"
   ]
  },
  {
   "cell_type": "code",
   "execution_count": null,
   "metadata": {},
   "outputs": [
    {
     "ename": "NameError",
     "evalue": "name 'predict_num' is not defined",
     "output_type": "error",
     "traceback": [
      "\u001b[1;31m---------------------------------------------------------------------------\u001b[0m",
      "\u001b[1;31mNameError\u001b[0m                                 Traceback (most recent call last)",
      "\u001b[1;32mc:\\Users\\jziac\\OneDrive\\Documents\\programovani\\projekty\\ml_cars\\reports\\price_prediction.ipynb Cell 21\u001b[0m line \u001b[0;36m1\n\u001b[1;32m----> <a href='vscode-notebook-cell:/c%3A/Users/jziac/OneDrive/Documents/programovani/projekty/ml_cars/reports/price_prediction.ipynb#X31sZmlsZQ%3D%3D?line=0'>1</a>\u001b[0m predict_num\u001b[39m.\u001b[39mestimate_test(\n\u001b[0;32m      <a href='vscode-notebook-cell:/c%3A/Users/jziac/OneDrive/Documents/programovani/projekty/ml_cars/reports/price_prediction.ipynb#X31sZmlsZQ%3D%3D?line=1'>2</a>\u001b[0m grid_search_dtreg, {\u001b[39m\"\u001b[39m\u001b[39mlearning_rate\u001b[39m\u001b[39m\"\u001b[39m: \u001b[39m0.05\u001b[39m, \u001b[39m\"\u001b[39m\u001b[39mmax_depth\u001b[39m\u001b[39m\"\u001b[39m: \u001b[39m32\u001b[39m, \u001b[39m\"\u001b[39m\u001b[39mmin_samples_split\u001b[39m\u001b[39m\"\u001b[39m: \u001b[39m18\u001b[39m, \u001b[39m\"\u001b[39m\u001b[39mn_estimators\u001b[39m\u001b[39m\"\u001b[39m: \u001b[39m50\u001b[39m})\n\u001b[0;32m      <a href='vscode-notebook-cell:/c%3A/Users/jziac/OneDrive/Documents/programovani/projekty/ml_cars/reports/price_prediction.ipynb#X31sZmlsZQ%3D%3D?line=2'>3</a>\u001b[0m predict_num\u001b[39m.\u001b[39msummary_df\n",
      "\u001b[1;31mNameError\u001b[0m: name 'predict_num' is not defined"
     ]
    }
   ],
   "source": [
    "predict_num.estimate_test(\n",
    "grid_search_dtreg, {\"learning_rate\": 0.05, \"max_depth\": 32, \"min_samples_split\": 18, \"n_estimators\": 50})\n",
    "predict_num.summary_df[predict_num.summary_df['method'] == 'rfreg'].sort_values('R2_valid', ascending=False).head()"
   ]
  },
  {
   "cell_type": "markdown",
   "metadata": {},
   "source": [
    "The best random forrest model explains over 95 % of variance in the testing data set and manages to squeze the mean absolute error under  67000. In comparision with the decision tree we can see that this model deals bettet with the overfitting. The performance on training data set is very similiar between these two models but random forrest performs better in validation and testing. "
   ]
  },
  {
   "cell_type": "markdown",
   "metadata": {},
   "source": [
    "## XGBOOST "
   ]
  },
  {
   "cell_type": "code",
   "execution_count": null,
   "metadata": {},
   "outputs": [],
   "source": [
    "param_grid = {\n",
    "{'max_depth': [3, 6, 9, 12, 15, 18, 13, 17, 21, 22, 24, 26, 28], 'min_samples_split': [18], \n",
    "'n_estimators': [100, 50, 150, 200, 250], \n",
    "'eta': [0.05, 0.1, 0.01, 0.15, 0.2], \n",
    "'lambda': [1, 3, 5], \n",
    "'gamma': [5, 10, 15], \n",
    "'subsample': [0.25, 0.5, 0.75, 1], \n",
    "'colsample_bytree': [0.7, 0.8, 0.5]}\n",
    "}"
   ]
  },
  {
   "cell_type": "code",
   "execution_count": 11,
   "metadata": {},
   "outputs": [
    {
     "name": "stdout",
     "output_type": "stream",
     "text": [
      "Fitting 3 folds for each of 1 candidates, totalling 3 fits\n"
     ]
    },
    {
     "ename": "KeyboardInterrupt",
     "evalue": "",
     "output_type": "error",
     "traceback": [
      "\u001b[1;31m---------------------------------------------------------------------------\u001b[0m",
      "\u001b[1;31mKeyboardInterrupt\u001b[0m                         Traceback (most recent call last)",
      "\u001b[1;32mc:\\Users\\jziac\\OneDrive\\Documents\\programovani\\projekty\\ml_cars\\reports\\model_selection.ipynb Cell 26\u001b[0m line \u001b[0;36m3\n\u001b[0;32m      <a href='vscode-notebook-cell:/c%3A/Users/jziac/OneDrive/Documents/programovani/projekty/ml_cars/reports/model_selection.ipynb#X33sZmlsZQ%3D%3D?line=0'>1</a>\u001b[0m param_grid \u001b[39m=\u001b[39m {\n\u001b[0;32m      <a href='vscode-notebook-cell:/c%3A/Users/jziac/OneDrive/Documents/programovani/projekty/ml_cars/reports/model_selection.ipynb#X33sZmlsZQ%3D%3D?line=1'>2</a>\u001b[0m \u001b[39m\"\u001b[39m\u001b[39mcolsample_bytree\u001b[39m\u001b[39m\"\u001b[39m: [\u001b[39m0.8\u001b[39m], \u001b[39m\"\u001b[39m\u001b[39meta\u001b[39m\u001b[39m\"\u001b[39m: [\u001b[39m0.15\u001b[39m], \u001b[39m\"\u001b[39m\u001b[39mgamma\u001b[39m\u001b[39m\"\u001b[39m: [\u001b[39m5\u001b[39m], \u001b[39m\"\u001b[39m\u001b[39mmax_depth\u001b[39m\u001b[39m\"\u001b[39m: [\u001b[39m26\u001b[39m], \u001b[39m\"\u001b[39m\u001b[39mn_estimators\u001b[39m\u001b[39m\"\u001b[39m: [\u001b[39m100\u001b[39m], \u001b[39m\"\u001b[39m\u001b[39msubsample\u001b[39m\u001b[39m\"\u001b[39m: [\u001b[39m0.75\u001b[39m], \u001b[39m'\u001b[39m\u001b[39mmin_child_weight\u001b[39m\u001b[39m'\u001b[39m: [\u001b[39m5\u001b[39m]}\n\u001b[1;32m----> <a href='vscode-notebook-cell:/c%3A/Users/jziac/OneDrive/Documents/programovani/projekty/ml_cars/reports/model_selection.ipynb#X33sZmlsZQ%3D%3D?line=2'>3</a>\u001b[0m grid_search_xgboost \u001b[39m=\u001b[39m predict_num\u001b[39m.\u001b[39;49mfind_best_model(\n\u001b[0;32m      <a href='vscode-notebook-cell:/c%3A/Users/jziac/OneDrive/Documents/programovani/projekty/ml_cars/reports/model_selection.ipynb#X33sZmlsZQ%3D%3D?line=3'>4</a>\u001b[0m     method\u001b[39m=\u001b[39;49m\u001b[39m\"\u001b[39;49m\u001b[39mxboostreg\u001b[39;49m\u001b[39m\"\u001b[39;49m, param_grid\u001b[39m=\u001b[39;49mparam_grid, n_jobs\u001b[39m=\u001b[39;49m\u001b[39m7\u001b[39;49m\n\u001b[0;32m      <a href='vscode-notebook-cell:/c%3A/Users/jziac/OneDrive/Documents/programovani/projekty/ml_cars/reports/model_selection.ipynb#X33sZmlsZQ%3D%3D?line=4'>5</a>\u001b[0m     )\n",
      "File \u001b[1;32mc:\\Users\\jziac\\OneDrive\\Documents\\programovani\\projekty\\ml_cars\\reports\\ml_summary.py:71\u001b[0m, in \u001b[0;36mPredictionSummary.find_best_model\u001b[1;34m(self, method, param_grid, n_jobs, **kwargs)\u001b[0m\n\u001b[0;32m     60\u001b[0m method_o \u001b[39m=\u001b[39m \u001b[39mself\u001b[39m\u001b[39m.\u001b[39mcreate_method_object(method\u001b[39m=\u001b[39mmethod, \u001b[39m*\u001b[39m\u001b[39m*\u001b[39mkwargs) \n\u001b[0;32m     61\u001b[0m grid_search \u001b[39m=\u001b[39m GridSearchCV(\n\u001b[0;32m     62\u001b[0m estimator\u001b[39m=\u001b[39mmethod_o, \n\u001b[0;32m     63\u001b[0m param_grid\u001b[39m=\u001b[39mparam_grid, \n\u001b[1;32m   (...)\u001b[0m\n\u001b[0;32m     69\u001b[0m verbose\u001b[39m=\u001b[39m\u001b[39m4\u001b[39m\n\u001b[0;32m     70\u001b[0m     )\n\u001b[1;32m---> 71\u001b[0m grid_search\u001b[39m.\u001b[39;49mfit(\u001b[39mself\u001b[39;49m\u001b[39m.\u001b[39;49mtrain_x, \u001b[39mself\u001b[39;49m\u001b[39m.\u001b[39;49mtrain_y)\n\u001b[0;32m     72\u001b[0m \u001b[39mfor\u001b[39;00m ind \u001b[39min\u001b[39;00m \u001b[39mrange\u001b[39m(\u001b[39mlen\u001b[39m(grid_search\u001b[39m.\u001b[39mcv_results_[\u001b[39m'\u001b[39m\u001b[39mparams\u001b[39m\u001b[39m'\u001b[39m])):\n\u001b[0;32m     73\u001b[0m     \u001b[39mself\u001b[39m\u001b[39m.\u001b[39m_save_model_stats(stat_dict\u001b[39m=\u001b[39mgrid_search\u001b[39m.\u001b[39mcv_results_,\n\u001b[0;32m     74\u001b[0m                                 ind\u001b[39m=\u001b[39mind,\n\u001b[0;32m     75\u001b[0m                                 method\u001b[39m=\u001b[39mmethod)\n",
      "File \u001b[1;32mc:\\Users\\jziac\\miniforge3\\envs\\ml_cars\\lib\\site-packages\\sklearn\\base.py:1152\u001b[0m, in \u001b[0;36m_fit_context.<locals>.decorator.<locals>.wrapper\u001b[1;34m(estimator, *args, **kwargs)\u001b[0m\n\u001b[0;32m   1145\u001b[0m     estimator\u001b[39m.\u001b[39m_validate_params()\n\u001b[0;32m   1147\u001b[0m \u001b[39mwith\u001b[39;00m config_context(\n\u001b[0;32m   1148\u001b[0m     skip_parameter_validation\u001b[39m=\u001b[39m(\n\u001b[0;32m   1149\u001b[0m         prefer_skip_nested_validation \u001b[39mor\u001b[39;00m global_skip_validation\n\u001b[0;32m   1150\u001b[0m     )\n\u001b[0;32m   1151\u001b[0m ):\n\u001b[1;32m-> 1152\u001b[0m     \u001b[39mreturn\u001b[39;00m fit_method(estimator, \u001b[39m*\u001b[39margs, \u001b[39m*\u001b[39m\u001b[39m*\u001b[39mkwargs)\n",
      "File \u001b[1;32mc:\\Users\\jziac\\miniforge3\\envs\\ml_cars\\lib\\site-packages\\sklearn\\model_selection\\_search.py:898\u001b[0m, in \u001b[0;36mBaseSearchCV.fit\u001b[1;34m(self, X, y, groups, **fit_params)\u001b[0m\n\u001b[0;32m    892\u001b[0m     results \u001b[39m=\u001b[39m \u001b[39mself\u001b[39m\u001b[39m.\u001b[39m_format_results(\n\u001b[0;32m    893\u001b[0m         all_candidate_params, n_splits, all_out, all_more_results\n\u001b[0;32m    894\u001b[0m     )\n\u001b[0;32m    896\u001b[0m     \u001b[39mreturn\u001b[39;00m results\n\u001b[1;32m--> 898\u001b[0m \u001b[39mself\u001b[39;49m\u001b[39m.\u001b[39;49m_run_search(evaluate_candidates)\n\u001b[0;32m    900\u001b[0m \u001b[39m# multimetric is determined here because in the case of a callable\u001b[39;00m\n\u001b[0;32m    901\u001b[0m \u001b[39m# self.scoring the return type is only known after calling\u001b[39;00m\n\u001b[0;32m    902\u001b[0m first_test_score \u001b[39m=\u001b[39m all_out[\u001b[39m0\u001b[39m][\u001b[39m\"\u001b[39m\u001b[39mtest_scores\u001b[39m\u001b[39m\"\u001b[39m]\n",
      "File \u001b[1;32mc:\\Users\\jziac\\miniforge3\\envs\\ml_cars\\lib\\site-packages\\sklearn\\model_selection\\_search.py:1422\u001b[0m, in \u001b[0;36mGridSearchCV._run_search\u001b[1;34m(self, evaluate_candidates)\u001b[0m\n\u001b[0;32m   1420\u001b[0m \u001b[39mdef\u001b[39;00m \u001b[39m_run_search\u001b[39m(\u001b[39mself\u001b[39m, evaluate_candidates):\n\u001b[0;32m   1421\u001b[0m \u001b[39m    \u001b[39m\u001b[39m\"\"\"Search all candidates in param_grid\"\"\"\u001b[39;00m\n\u001b[1;32m-> 1422\u001b[0m     evaluate_candidates(ParameterGrid(\u001b[39mself\u001b[39;49m\u001b[39m.\u001b[39;49mparam_grid))\n",
      "File \u001b[1;32mc:\\Users\\jziac\\miniforge3\\envs\\ml_cars\\lib\\site-packages\\sklearn\\model_selection\\_search.py:845\u001b[0m, in \u001b[0;36mBaseSearchCV.fit.<locals>.evaluate_candidates\u001b[1;34m(candidate_params, cv, more_results)\u001b[0m\n\u001b[0;32m    837\u001b[0m \u001b[39mif\u001b[39;00m \u001b[39mself\u001b[39m\u001b[39m.\u001b[39mverbose \u001b[39m>\u001b[39m \u001b[39m0\u001b[39m:\n\u001b[0;32m    838\u001b[0m     \u001b[39mprint\u001b[39m(\n\u001b[0;32m    839\u001b[0m         \u001b[39m\"\u001b[39m\u001b[39mFitting \u001b[39m\u001b[39m{0}\u001b[39;00m\u001b[39m folds for each of \u001b[39m\u001b[39m{1}\u001b[39;00m\u001b[39m candidates,\u001b[39m\u001b[39m\"\u001b[39m\n\u001b[0;32m    840\u001b[0m         \u001b[39m\"\u001b[39m\u001b[39m totalling \u001b[39m\u001b[39m{2}\u001b[39;00m\u001b[39m fits\u001b[39m\u001b[39m\"\u001b[39m\u001b[39m.\u001b[39mformat(\n\u001b[0;32m    841\u001b[0m             n_splits, n_candidates, n_candidates \u001b[39m*\u001b[39m n_splits\n\u001b[0;32m    842\u001b[0m         )\n\u001b[0;32m    843\u001b[0m     )\n\u001b[1;32m--> 845\u001b[0m out \u001b[39m=\u001b[39m parallel(\n\u001b[0;32m    846\u001b[0m     delayed(_fit_and_score)(\n\u001b[0;32m    847\u001b[0m         clone(base_estimator),\n\u001b[0;32m    848\u001b[0m         X,\n\u001b[0;32m    849\u001b[0m         y,\n\u001b[0;32m    850\u001b[0m         train\u001b[39m=\u001b[39;49mtrain,\n\u001b[0;32m    851\u001b[0m         test\u001b[39m=\u001b[39;49mtest,\n\u001b[0;32m    852\u001b[0m         parameters\u001b[39m=\u001b[39;49mparameters,\n\u001b[0;32m    853\u001b[0m         split_progress\u001b[39m=\u001b[39;49m(split_idx, n_splits),\n\u001b[0;32m    854\u001b[0m         candidate_progress\u001b[39m=\u001b[39;49m(cand_idx, n_candidates),\n\u001b[0;32m    855\u001b[0m         \u001b[39m*\u001b[39;49m\u001b[39m*\u001b[39;49mfit_and_score_kwargs,\n\u001b[0;32m    856\u001b[0m     )\n\u001b[0;32m    857\u001b[0m     \u001b[39mfor\u001b[39;49;00m (cand_idx, parameters), (split_idx, (train, test)) \u001b[39min\u001b[39;49;00m product(\n\u001b[0;32m    858\u001b[0m         \u001b[39menumerate\u001b[39;49m(candidate_params), \u001b[39menumerate\u001b[39;49m(cv\u001b[39m.\u001b[39;49msplit(X, y, groups))\n\u001b[0;32m    859\u001b[0m     )\n\u001b[0;32m    860\u001b[0m )\n\u001b[0;32m    862\u001b[0m \u001b[39mif\u001b[39;00m \u001b[39mlen\u001b[39m(out) \u001b[39m<\u001b[39m \u001b[39m1\u001b[39m:\n\u001b[0;32m    863\u001b[0m     \u001b[39mraise\u001b[39;00m \u001b[39mValueError\u001b[39;00m(\n\u001b[0;32m    864\u001b[0m         \u001b[39m\"\u001b[39m\u001b[39mNo fits were performed. \u001b[39m\u001b[39m\"\u001b[39m\n\u001b[0;32m    865\u001b[0m         \u001b[39m\"\u001b[39m\u001b[39mWas the CV iterator empty? \u001b[39m\u001b[39m\"\u001b[39m\n\u001b[0;32m    866\u001b[0m         \u001b[39m\"\u001b[39m\u001b[39mWere there no candidates?\u001b[39m\u001b[39m\"\u001b[39m\n\u001b[0;32m    867\u001b[0m     )\n",
      "File \u001b[1;32mc:\\Users\\jziac\\miniforge3\\envs\\ml_cars\\lib\\site-packages\\sklearn\\utils\\parallel.py:65\u001b[0m, in \u001b[0;36mParallel.__call__\u001b[1;34m(self, iterable)\u001b[0m\n\u001b[0;32m     60\u001b[0m config \u001b[39m=\u001b[39m get_config()\n\u001b[0;32m     61\u001b[0m iterable_with_config \u001b[39m=\u001b[39m (\n\u001b[0;32m     62\u001b[0m     (_with_config(delayed_func, config), args, kwargs)\n\u001b[0;32m     63\u001b[0m     \u001b[39mfor\u001b[39;00m delayed_func, args, kwargs \u001b[39min\u001b[39;00m iterable\n\u001b[0;32m     64\u001b[0m )\n\u001b[1;32m---> 65\u001b[0m \u001b[39mreturn\u001b[39;00m \u001b[39msuper\u001b[39;49m()\u001b[39m.\u001b[39;49m\u001b[39m__call__\u001b[39;49m(iterable_with_config)\n",
      "File \u001b[1;32mc:\\Users\\jziac\\miniforge3\\envs\\ml_cars\\lib\\site-packages\\joblib\\parallel.py:1952\u001b[0m, in \u001b[0;36mParallel.__call__\u001b[1;34m(self, iterable)\u001b[0m\n\u001b[0;32m   1946\u001b[0m \u001b[39m# The first item from the output is blank, but it makes the interpreter\u001b[39;00m\n\u001b[0;32m   1947\u001b[0m \u001b[39m# progress until it enters the Try/Except block of the generator and\u001b[39;00m\n\u001b[0;32m   1948\u001b[0m \u001b[39m# reach the first `yield` statement. This starts the aynchronous\u001b[39;00m\n\u001b[0;32m   1949\u001b[0m \u001b[39m# dispatch of the tasks to the workers.\u001b[39;00m\n\u001b[0;32m   1950\u001b[0m \u001b[39mnext\u001b[39m(output)\n\u001b[1;32m-> 1952\u001b[0m \u001b[39mreturn\u001b[39;00m output \u001b[39mif\u001b[39;00m \u001b[39mself\u001b[39m\u001b[39m.\u001b[39mreturn_generator \u001b[39melse\u001b[39;00m \u001b[39mlist\u001b[39;49m(output)\n",
      "File \u001b[1;32mc:\\Users\\jziac\\miniforge3\\envs\\ml_cars\\lib\\site-packages\\joblib\\parallel.py:1595\u001b[0m, in \u001b[0;36mParallel._get_outputs\u001b[1;34m(self, iterator, pre_dispatch)\u001b[0m\n\u001b[0;32m   1592\u001b[0m     \u001b[39myield\u001b[39;00m\n\u001b[0;32m   1594\u001b[0m     \u001b[39mwith\u001b[39;00m \u001b[39mself\u001b[39m\u001b[39m.\u001b[39m_backend\u001b[39m.\u001b[39mretrieval_context():\n\u001b[1;32m-> 1595\u001b[0m         \u001b[39myield from\u001b[39;00m \u001b[39mself\u001b[39m\u001b[39m.\u001b[39m_retrieve()\n\u001b[0;32m   1597\u001b[0m \u001b[39mexcept\u001b[39;00m \u001b[39mGeneratorExit\u001b[39;00m:\n\u001b[0;32m   1598\u001b[0m     \u001b[39m# The generator has been garbage collected before being fully\u001b[39;00m\n\u001b[0;32m   1599\u001b[0m     \u001b[39m# consumed. This aborts the remaining tasks if possible and warn\u001b[39;00m\n\u001b[0;32m   1600\u001b[0m     \u001b[39m# the user if necessary.\u001b[39;00m\n\u001b[0;32m   1601\u001b[0m     \u001b[39mself\u001b[39m\u001b[39m.\u001b[39m_exception \u001b[39m=\u001b[39m \u001b[39mTrue\u001b[39;00m\n",
      "File \u001b[1;32mc:\\Users\\jziac\\miniforge3\\envs\\ml_cars\\lib\\site-packages\\joblib\\parallel.py:1707\u001b[0m, in \u001b[0;36mParallel._retrieve\u001b[1;34m(self)\u001b[0m\n\u001b[0;32m   1702\u001b[0m \u001b[39m# If the next job is not ready for retrieval yet, we just wait for\u001b[39;00m\n\u001b[0;32m   1703\u001b[0m \u001b[39m# async callbacks to progress.\u001b[39;00m\n\u001b[0;32m   1704\u001b[0m \u001b[39mif\u001b[39;00m ((\u001b[39mlen\u001b[39m(\u001b[39mself\u001b[39m\u001b[39m.\u001b[39m_jobs) \u001b[39m==\u001b[39m \u001b[39m0\u001b[39m) \u001b[39mor\u001b[39;00m\n\u001b[0;32m   1705\u001b[0m     (\u001b[39mself\u001b[39m\u001b[39m.\u001b[39m_jobs[\u001b[39m0\u001b[39m]\u001b[39m.\u001b[39mget_status(\n\u001b[0;32m   1706\u001b[0m         timeout\u001b[39m=\u001b[39m\u001b[39mself\u001b[39m\u001b[39m.\u001b[39mtimeout) \u001b[39m==\u001b[39m TASK_PENDING)):\n\u001b[1;32m-> 1707\u001b[0m     time\u001b[39m.\u001b[39;49msleep(\u001b[39m0.01\u001b[39;49m)\n\u001b[0;32m   1708\u001b[0m     \u001b[39mcontinue\u001b[39;00m\n\u001b[0;32m   1710\u001b[0m \u001b[39m# We need to be careful: the job list can be filling up as\u001b[39;00m\n\u001b[0;32m   1711\u001b[0m \u001b[39m# we empty it and Python list are not thread-safe by\u001b[39;00m\n\u001b[0;32m   1712\u001b[0m \u001b[39m# default hence the use of the lock\u001b[39;00m\n",
      "\u001b[1;31mKeyboardInterrupt\u001b[0m: "
     ]
    }
   ],
   "source": [
    "param_grid = {\n",
    "\"colsample_bytree\": [0.8], \"eta\": [0.15], \"gamma\": [5], \"max_depth\": [26], \"n_estimators\": [100], \"subsample\": [0.75], 'min_child_weight': [5]}\n",
    "grid_search_xgboost = predict_num.find_best_model(\n",
    "    method=\"xboostreg\", param_grid=param_grid, n_jobs=7\n",
    "    )"
   ]
  },
  {
   "cell_type": "code",
   "execution_count": 10,
   "metadata": {},
   "outputs": [
    {
     "data": {
      "text/html": [
       "<div>\n",
       "<style scoped>\n",
       "    .dataframe tbody tr th:only-of-type {\n",
       "        vertical-align: middle;\n",
       "    }\n",
       "\n",
       "    .dataframe tbody tr th {\n",
       "        vertical-align: top;\n",
       "    }\n",
       "\n",
       "    .dataframe thead th {\n",
       "        text-align: right;\n",
       "    }\n",
       "</style>\n",
       "<table border=\"1\" class=\"dataframe\">\n",
       "  <thead>\n",
       "    <tr style=\"text-align: right;\">\n",
       "      <th></th>\n",
       "      <th>method</th>\n",
       "      <th>MSE_train</th>\n",
       "      <th>MAE_train</th>\n",
       "      <th>R2_train</th>\n",
       "      <th>MSE_valid</th>\n",
       "      <th>MAE_valid</th>\n",
       "      <th>R2_valid</th>\n",
       "      <th>MSE_test</th>\n",
       "      <th>MAE_test</th>\n",
       "      <th>R2_test</th>\n",
       "      <th>params</th>\n",
       "      <th>test_size</th>\n",
       "      <th>cv_n</th>\n",
       "      <th>iteration</th>\n",
       "    </tr>\n",
       "  </thead>\n",
       "  <tbody>\n",
       "    <tr>\n",
       "      <th>0</th>\n",
       "      <td>xboostreg</td>\n",
       "      <td>-1.524170e+10</td>\n",
       "      <td>-60192.937427</td>\n",
       "      <td>0.962893</td>\n",
       "      <td>-2.095083e+10</td>\n",
       "      <td>-69982.228267</td>\n",
       "      <td>0.948997</td>\n",
       "      <td>NaN</td>\n",
       "      <td>NaN</td>\n",
       "      <td>NaN</td>\n",
       "      <td>{\"colsample_bytree\": 0.8, \"eta\": 0.15, \"gamma\"...</td>\n",
       "      <td>0.1</td>\n",
       "      <td>3</td>\n",
       "      <td>1</td>\n",
       "    </tr>\n",
       "    <tr>\n",
       "      <th>1</th>\n",
       "      <td>xboostreg</td>\n",
       "      <td>-2.299078e+10</td>\n",
       "      <td>-72190.650075</td>\n",
       "      <td>0.944025</td>\n",
       "      <td>-2.664637e+10</td>\n",
       "      <td>-77266.730595</td>\n",
       "      <td>0.935142</td>\n",
       "      <td>NaN</td>\n",
       "      <td>NaN</td>\n",
       "      <td>NaN</td>\n",
       "      <td>{\"colsample_bytree\": 0.8, \"eta\": 0.15, \"gamma\"...</td>\n",
       "      <td>0.1</td>\n",
       "      <td>3</td>\n",
       "      <td>1</td>\n",
       "    </tr>\n",
       "  </tbody>\n",
       "</table>\n",
       "</div>"
      ],
      "text/plain": [
       "      method     MSE_train     MAE_train  R2_train     MSE_valid  \\\n",
       "0  xboostreg -1.524170e+10 -60192.937427  0.962893 -2.095083e+10   \n",
       "1  xboostreg -2.299078e+10 -72190.650075  0.944025 -2.664637e+10   \n",
       "\n",
       "      MAE_valid  R2_valid MSE_test MAE_test R2_test  \\\n",
       "0 -69982.228267  0.948997      NaN      NaN     NaN   \n",
       "1 -77266.730595  0.935142      NaN      NaN     NaN   \n",
       "\n",
       "                                              params  test_size cv_n iteration  \n",
       "0  {\"colsample_bytree\": 0.8, \"eta\": 0.15, \"gamma\"...        0.1    3         1  \n",
       "1  {\"colsample_bytree\": 0.8, \"eta\": 0.15, \"gamma\"...        0.1    3         1  "
      ]
     },
     "execution_count": 10,
     "metadata": {},
     "output_type": "execute_result"
    }
   ],
   "source": [
    "predict_num.summary_df"
   ]
  },
  {
   "cell_type": "code",
   "execution_count": 14,
   "metadata": {},
   "outputs": [
    {
     "name": "stderr",
     "output_type": "stream",
     "text": [
      "c:\\Users\\jziac\\miniforge3\\envs\\ml_cars\\lib\\site-packages\\xgboost\\data.py:312: FutureWarning: is_sparse is deprecated and will be removed in a future version. Check `isinstance(dtype, pd.SparseDtype)` instead.\n",
      "  if is_sparse(dtype):\n",
      "c:\\Users\\jziac\\miniforge3\\envs\\ml_cars\\lib\\site-packages\\xgboost\\data.py:314: FutureWarning: is_categorical_dtype is deprecated and will be removed in a future version. Use isinstance(dtype, CategoricalDtype) instead\n",
      "  elif is_categorical_dtype(dtype) and enable_categorical:\n",
      "c:\\Users\\jziac\\miniforge3\\envs\\ml_cars\\lib\\site-packages\\xgboost\\data.py:345: FutureWarning: is_categorical_dtype is deprecated and will be removed in a future version. Use isinstance(dtype, CategoricalDtype) instead\n",
      "  if is_categorical_dtype(dtype)\n",
      "c:\\Users\\jziac\\miniforge3\\envs\\ml_cars\\lib\\site-packages\\xgboost\\data.py:336: FutureWarning: is_categorical_dtype is deprecated and will be removed in a future version. Use isinstance(dtype, CategoricalDtype) instead\n",
      "  return is_int or is_bool or is_float or is_categorical_dtype(dtype)\n"
     ]
    }
   ],
   "source": [
    "predict_num.estimate_test(\n",
    "    grid_search_xgboost, {\"colsample_bytree\": 0.8, \"eta\": 0.15, \"gamma\": 5, \"max_depth\": 26, \"n_estimators\": 100, \"subsample\": 0.75}\n",
    "    )"
   ]
  },
  {
   "cell_type": "code",
   "execution_count": 12,
   "metadata": {},
   "outputs": [],
   "source": [
    "pd.set_option('display.max_colwidth', 250)"
   ]
  },
  {
   "cell_type": "markdown",
   "metadata": {},
   "source": [
    "After lengthy search, I was able to achieve to eplain over 96 % of variation in validation and testing. The tree depth is quite hight at 26 which "
   ]
  },
  {
   "cell_type": "markdown",
   "metadata": {},
   "source": [
    "## Summary Results"
   ]
  },
  {
   "cell_type": "code",
   "execution_count": null,
   "metadata": {},
   "outputs": [],
   "source": []
  },
  {
   "cell_type": "code",
   "execution_count": 43,
   "metadata": {},
   "outputs": [],
   "source": [
    "pd.set_option('display.max_colwidth', 200)\n",
    "pd.set_option('display.max_rows', 250)"
   ]
  },
  {
   "cell_type": "code",
   "execution_count": 10,
   "metadata": {},
   "outputs": [
    {
     "data": {
      "text/html": [
       "<div>\n",
       "<style scoped>\n",
       "    .dataframe tbody tr th:only-of-type {\n",
       "        vertical-align: middle;\n",
       "    }\n",
       "\n",
       "    .dataframe tbody tr th {\n",
       "        vertical-align: top;\n",
       "    }\n",
       "\n",
       "    .dataframe thead th {\n",
       "        text-align: right;\n",
       "    }\n",
       "</style>\n",
       "<table border=\"1\" class=\"dataframe\">\n",
       "  <thead>\n",
       "    <tr style=\"text-align: right;\">\n",
       "      <th></th>\n",
       "      <th>method</th>\n",
       "      <th>MSE_train</th>\n",
       "      <th>MAE_train</th>\n",
       "      <th>R2_train</th>\n",
       "      <th>MSE_valid</th>\n",
       "      <th>MAE_valid</th>\n",
       "      <th>R2_valid</th>\n",
       "      <th>MSE_test</th>\n",
       "      <th>MAE_test</th>\n",
       "      <th>R2_test</th>\n",
       "      <th>params</th>\n",
       "      <th>test_size</th>\n",
       "      <th>cv_n</th>\n",
       "      <th>iteration</th>\n",
       "    </tr>\n",
       "  </thead>\n",
       "  <tbody>\n",
       "    <tr>\n",
       "      <th>205</th>\n",
       "      <td>xboostreg</td>\n",
       "      <td>-2.224016e+09</td>\n",
       "      <td>-27997.136640</td>\n",
       "      <td>0.994586</td>\n",
       "      <td>-1.598478e+10</td>\n",
       "      <td>-62445.494969</td>\n",
       "      <td>0.961080</td>\n",
       "      <td>NaN</td>\n",
       "      <td>NaN</td>\n",
       "      <td>NaN</td>\n",
       "      <td>{\"colsample_bytree\": 0.8, \"eta\": 0.15, \"gamma\"...</td>\n",
       "      <td>0.1</td>\n",
       "      <td>3</td>\n",
       "      <td>1</td>\n",
       "    </tr>\n",
       "    <tr>\n",
       "      <th>204</th>\n",
       "      <td>xboostreg</td>\n",
       "      <td>-2.764802e+09</td>\n",
       "      <td>-31829.153063</td>\n",
       "      <td>0.993271</td>\n",
       "      <td>-1.628675e+10</td>\n",
       "      <td>-64030.115164</td>\n",
       "      <td>0.960343</td>\n",
       "      <td>NaN</td>\n",
       "      <td>NaN</td>\n",
       "      <td>NaN</td>\n",
       "      <td>{\"colsample_bytree\": 0.7, \"eta\": 0.15, \"gamma\"...</td>\n",
       "      <td>0.1</td>\n",
       "      <td>3</td>\n",
       "      <td>1</td>\n",
       "    </tr>\n",
       "    <tr>\n",
       "      <th>198</th>\n",
       "      <td>xboostreg</td>\n",
       "      <td>-1.888969e+09</td>\n",
       "      <td>-24772.127363</td>\n",
       "      <td>0.995402</td>\n",
       "      <td>-1.697400e+10</td>\n",
       "      <td>-62923.111557</td>\n",
       "      <td>0.958678</td>\n",
       "      <td>NaN</td>\n",
       "      <td>NaN</td>\n",
       "      <td>NaN</td>\n",
       "      <td>{\"eta\": 0.15, \"gamma\": 10, \"max_depth\": 26, \"n...</td>\n",
       "      <td>0.1</td>\n",
       "      <td>3</td>\n",
       "      <td>1</td>\n",
       "    </tr>\n",
       "    <tr>\n",
       "      <th>194</th>\n",
       "      <td>xboostreg</td>\n",
       "      <td>-1.888969e+09</td>\n",
       "      <td>-24772.127363</td>\n",
       "      <td>0.995402</td>\n",
       "      <td>-1.697400e+10</td>\n",
       "      <td>-62923.111557</td>\n",
       "      <td>0.958678</td>\n",
       "      <td>NaN</td>\n",
       "      <td>NaN</td>\n",
       "      <td>NaN</td>\n",
       "      <td>{\"eta\": 0.15, \"gamma\": 5, \"max_depth\": 26, \"n_...</td>\n",
       "      <td>0.1</td>\n",
       "      <td>3</td>\n",
       "      <td>1</td>\n",
       "    </tr>\n",
       "    <tr>\n",
       "      <th>202</th>\n",
       "      <td>xboostreg</td>\n",
       "      <td>-1.888969e+09</td>\n",
       "      <td>-24772.127363</td>\n",
       "      <td>0.995402</td>\n",
       "      <td>-1.697400e+10</td>\n",
       "      <td>-62923.111557</td>\n",
       "      <td>0.958678</td>\n",
       "      <td>NaN</td>\n",
       "      <td>NaN</td>\n",
       "      <td>NaN</td>\n",
       "      <td>{\"eta\": 0.15, \"gamma\": 15, \"max_depth\": 26, \"n...</td>\n",
       "      <td>0.1</td>\n",
       "      <td>3</td>\n",
       "      <td>1</td>\n",
       "    </tr>\n",
       "  </tbody>\n",
       "</table>\n",
       "</div>"
      ],
      "text/plain": [
       "        method     MSE_train     MAE_train  R2_train     MSE_valid  \\\n",
       "205  xboostreg -2.224016e+09 -27997.136640  0.994586 -1.598478e+10   \n",
       "204  xboostreg -2.764802e+09 -31829.153063  0.993271 -1.628675e+10   \n",
       "198  xboostreg -1.888969e+09 -24772.127363  0.995402 -1.697400e+10   \n",
       "194  xboostreg -1.888969e+09 -24772.127363  0.995402 -1.697400e+10   \n",
       "202  xboostreg -1.888969e+09 -24772.127363  0.995402 -1.697400e+10   \n",
       "\n",
       "        MAE_valid  R2_valid  MSE_test  MAE_test  R2_test  \\\n",
       "205 -62445.494969  0.961080       NaN       NaN      NaN   \n",
       "204 -64030.115164  0.960343       NaN       NaN      NaN   \n",
       "198 -62923.111557  0.958678       NaN       NaN      NaN   \n",
       "194 -62923.111557  0.958678       NaN       NaN      NaN   \n",
       "202 -62923.111557  0.958678       NaN       NaN      NaN   \n",
       "\n",
       "                                                params  test_size  cv_n  \\\n",
       "205  {\"colsample_bytree\": 0.8, \"eta\": 0.15, \"gamma\"...        0.1     3   \n",
       "204  {\"colsample_bytree\": 0.7, \"eta\": 0.15, \"gamma\"...        0.1     3   \n",
       "198  {\"eta\": 0.15, \"gamma\": 10, \"max_depth\": 26, \"n...        0.1     3   \n",
       "194  {\"eta\": 0.15, \"gamma\": 5, \"max_depth\": 26, \"n_...        0.1     3   \n",
       "202  {\"eta\": 0.15, \"gamma\": 15, \"max_depth\": 26, \"n...        0.1     3   \n",
       "\n",
       "     iteration  \n",
       "205          1  \n",
       "204          1  \n",
       "198          1  \n",
       "194          1  \n",
       "202          1  "
      ]
     },
     "execution_count": 10,
     "metadata": {},
     "output_type": "execute_result"
    }
   ],
   "source": [
    "metrics[metrics['method'] == 'xboostreg'].sort_values('R2_valid', ascending=False).head()"
   ]
  }
 ],
 "metadata": {
  "kernelspec": {
   "display_name": "ml_cars",
   "language": "python",
   "name": "python3"
  },
  "language_info": {
   "codemirror_mode": {
    "name": "ipython",
    "version": 3
   },
   "file_extension": ".py",
   "mimetype": "text/x-python",
   "name": "python",
   "nbconvert_exporter": "python",
   "pygments_lexer": "ipython3",
   "version": "3.10.12"
  },
  "orig_nbformat": 4
 },
 "nbformat": 4,
 "nbformat_minor": 2
}
