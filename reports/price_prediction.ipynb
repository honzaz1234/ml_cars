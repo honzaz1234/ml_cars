{
 "cells": [
  {
   "cell_type": "code",
   "execution_count": 1,
   "metadata": {},
   "outputs": [],
   "source": [
    "\n",
    "from sklearn.model_selection import train_test_split, cross_val_score, cross_validate, GridSearchCV\n",
    "from sklearn.preprocessing import StandardScaler\n",
    "from sklearn.metrics import mean_squared_error, mean_absolute_error, r2_score\n",
    "from ml_classes import *\n"
   ]
  },
  {
   "cell_type": "code",
   "execution_count": 4,
   "metadata": {},
   "outputs": [],
   "source": [
    "int_remove_cols = [\"carmaker\", \"transmission\", \"drive\", \"car_style\",\n",
    "                    \"emission_class\", \"door_count\", \"color\", \"carmaker_volkswagen\", \"transmission_manual\", \"drive_4x2\", \"car_style_sedan\", \"door_count_4_5\", \"color_s\", \"country_origin_Germany\", 'emission_class_old', 'fuel_type', 'fuel_type_petrol', 'country_origin']\n",
    "cat_remove_cols = ['country_origin_Austria', 'country_origin_Belgium',\n",
    "                    'country_origin_Czech Republic', 'country_origin_France',\n",
    "                    'country_origin_Germany', 'country_origin_Italy',\n",
    "                    'country_origin_Luxembourg', 'country_origin_Netherlands',\n",
    "                    'country_origin_Poland', 'country_origin_Romania',\n",
    "                    'country_origin_Slovakia', 'country_origin_Spain',\n",
    "                    'country_origin_Sweden', 'color_n', 'color_s', \n",
    "                    'door_count_2_3', 'door_count_4_5', 'emission_class_new',\n",
    "                    'emission_class_old', 'car_style_large',\n",
    "                    'car_style_offroad', 'car_style_sedan', 'car_style_sport',\n",
    "                    'car_style_station_wagon', 'drive_4x2', 'drive_4x4', \n",
    "                    'transmission_automatic', 'transmission_manual',\n",
    "                    'fuel_type_diesel', 'fuel_type_petrol', 'carmaker_audi', 'carmaker_bmw', 'carmaker_citroen', 'carmaker_dacia', 'carmaker_fiat', 'carmaker_ford', 'carmaker_hyundai', 'carmaker_jeep', 'carmaker_kia', 'carmaker_land_rover', 'carmaker_mazda', 'carmaker_mercedes_benz', 'carmaker_mini', 'carmaker_nissan', 'carmaker_opel',\n",
    "                    'carmaker_other_brand', 'carmaker_peugeot', 'carmaker_porsche', 'carmaker_renault', 'carmaker_seat', 'carmaker_skoda', 'carmaker_toyota', 'carmaker_volkswagen', 'carmaker_volvo']\n",
    "int_cont_cols = [\"power\", \"cubic_capacity\", \n",
    "                 \"fuel_consumption_combined\", \"co2_emission\", \"vehicle_age\"]"
   ]
  },
  {
   "cell_type": "code",
   "execution_count": 5,
   "metadata": {},
   "outputs": [],
   "source": [
    "df_comparison = pd.DataFrame(columns=[\"method\", \"MSE_train\", \"MAD_train\",\n",
    "                                       \"R2_train\", \"MSE_test\", \"MAD_test\", \"R2_test\"])"
   ]
  },
  {
   "cell_type": "code",
   "execution_count": 13,
   "metadata": {},
   "outputs": [
    {
     "name": "stderr",
     "output_type": "stream",
     "text": [
      "C:\\Users\\jziac\\AppData\\Local\\Temp\\ipykernel_8160\\2764767178.py:19: SettingWithCopyWarning: \n",
      "A value is trying to be set on a copy of a slice from a DataFrame.\n",
      "Try using .loc[row_indexer,col_indexer] = value instead\n",
      "\n",
      "See the caveats in the documentation: https://pandas.pydata.org/pandas-docs/stable/user_guide/indexing.html#returning-a-view-versus-a-copy\n",
      "  X[int_cont_cols] = scaler.fit_transform(X[int_cont_cols])\n"
     ]
    }
   ],
   "source": [
    "#read data\n",
    "scaler = StandardScaler()\n",
    "data = pd.read_csv(\"../data/data_pred.csv\")\n",
    "data.head()"
   ]
  },
  {
   "cell_type": "code",
   "execution_count": null,
   "metadata": {},
   "outputs": [],
   "source": [
    "#prepare data for estimation\n",
    "columns =  data.columns\n",
    "x_columns = list(data.columns)\n",
    "x_columns.remove(\"price\")\n",
    "x_columns_int = x_columns.copy()\n",
    "x_columns_cat = x_columns.copy()\n",
    "for column in data.select_dtypes(include=['bool']):\n",
    "    data[column] = data[column].astype(int) \n",
    "for col in int_remove_cols:\n",
    "    x_columns_int.remove(col)\n",
    "for col in cat_remove_cols:\n",
    "    x_columns_cat.remove(col)\n",
    "X = data[x_columns]\n",
    "\n",
    "#scale continous variables\n",
    "X[int_cont_cols] = scaler.fit_transform(X[int_cont_cols])\n",
    "\n",
    "#target variable - price  \n",
    "y = data[\"price\"]\n",
    "\n",
    "#data for  - OLS, K-Neighbors..\n",
    "X_num = X[x_columns_int]\n",
    "\n",
    "#data for Decisions trees etc.\n",
    "X_cat = X[x_columns_cat]"
   ]
  },
  {
   "cell_type": "code",
   "execution_count": 10,
   "metadata": {},
   "outputs": [],
   "source": [
    "#class used for storing results using several different ML algorithms\n",
    "predict_num = PredictionSummary()\n",
    "#create train/test data sets inside class for estimation\n",
    "predict_num.load_data(X=X_num, y=y)"
   ]
  },
  {
   "cell_type": "markdown",
   "metadata": {},
   "source": [
    "## OLS"
   ]
  },
  {
   "cell_type": "code",
   "execution_count": 8,
   "metadata": {},
   "outputs": [
    {
     "name": "stdout",
     "output_type": "stream",
     "text": [
      "{'fit_intercept': True}\n",
      "{'method': 'ols', 'MSE_train': -110835187849.13313, 'MSE_valid': -110950063750.01665, 'MAD_train': -167494.2588491664, 'MAD_valid': -167549.0298145045, 'R2_valid': 0.7299018414232207, 'R2_train': 0.7301729042022069, 'params': '{\"fit_intercept\": true}', 'iteration': 1, 'cv_n': 3, 'test_size': 0.09999999999999998}\n",
      "Empty DataFrame\n",
      "Columns: [method, MSE_train, MAD_train, R2_train, MSE_valid, MAD_valid, R2_valid, MSE_test, MAD_test, R2_test, params, test_size, cv_n, iteration]\n",
      "Index: []\n"
     ]
    },
    {
     "name": "stderr",
     "output_type": "stream",
     "text": [
      "c:\\Users\\jziac\\OneDrive\\Documents\\programovani\\projekty\\ml_cars\\reports\\ml_classes.py:99: FutureWarning: The behavior of DataFrame concatenation with empty or all-NA entries is deprecated. In a future version, this will no longer exclude empty or all-NA columns when determining the result dtypes. To retain the old behavior, exclude the relevant entries before the concat operation.\n",
      "  self.summary_df = pd.concat([self.summary_df, pd.DataFrame(stat_row, index=[self.df_index])])\n"
     ]
    },
    {
     "data": {
      "text/html": [
       "<div>\n",
       "<style scoped>\n",
       "    .dataframe tbody tr th:only-of-type {\n",
       "        vertical-align: middle;\n",
       "    }\n",
       "\n",
       "    .dataframe tbody tr th {\n",
       "        vertical-align: top;\n",
       "    }\n",
       "\n",
       "    .dataframe thead th {\n",
       "        text-align: right;\n",
       "    }\n",
       "</style>\n",
       "<table border=\"1\" class=\"dataframe\">\n",
       "  <thead>\n",
       "    <tr style=\"text-align: right;\">\n",
       "      <th></th>\n",
       "      <th>method</th>\n",
       "      <th>MSE_train</th>\n",
       "      <th>MAD_train</th>\n",
       "      <th>R2_train</th>\n",
       "      <th>MSE_valid</th>\n",
       "      <th>MAD_valid</th>\n",
       "      <th>R2_valid</th>\n",
       "      <th>MSE_test</th>\n",
       "      <th>MAD_test</th>\n",
       "      <th>R2_test</th>\n",
       "      <th>params</th>\n",
       "      <th>test_size</th>\n",
       "      <th>cv_n</th>\n",
       "      <th>iteration</th>\n",
       "    </tr>\n",
       "  </thead>\n",
       "  <tbody>\n",
       "    <tr>\n",
       "      <th>0</th>\n",
       "      <td>ols</td>\n",
       "      <td>-1.108352e+11</td>\n",
       "      <td>-167494.258849</td>\n",
       "      <td>0.730173</td>\n",
       "      <td>-1.109501e+11</td>\n",
       "      <td>-167549.029815</td>\n",
       "      <td>0.729902</td>\n",
       "      <td>114249315327.194702</td>\n",
       "      <td>168154.31387</td>\n",
       "      <td>0.729155</td>\n",
       "      <td>{\"fit_intercept\": true}</td>\n",
       "      <td>0.1</td>\n",
       "      <td>3</td>\n",
       "      <td>1</td>\n",
       "    </tr>\n",
       "  </tbody>\n",
       "</table>\n",
       "</div>"
      ],
      "text/plain": [
       "  method     MSE_train      MAD_train  R2_train     MSE_valid      MAD_valid  \\\n",
       "0    ols -1.108352e+11 -167494.258849  0.730173 -1.109501e+11 -167549.029815   \n",
       "\n",
       "   R2_valid             MSE_test      MAD_test   R2_test  \\\n",
       "0  0.729902  114249315327.194702  168154.31387  0.729155   \n",
       "\n",
       "                    params  test_size cv_n iteration  \n",
       "0  {\"fit_intercept\": true}        0.1    3         1  "
      ]
     },
     "execution_count": 8,
     "metadata": {},
     "output_type": "execute_result"
    }
   ],
   "source": [
    "param_grid = {\n",
    "    'fit_intercept': [True],  # List of possible values for n_neighbors\n",
    "}\n",
    "grid_search = predict_num.find_best_model(method=\"ols\", param_grid=param_grid)\n",
    "predict_num.estimate_test(grid_search, {'fit_intercept': True})\n",
    "predict_num.summary_df"
   ]
  },
  {
   "cell_type": "markdown",
   "metadata": {},
   "source": [
    "## K-nearest Neighbors"
   ]
  },
  {
   "cell_type": "code",
   "execution_count": 9,
   "metadata": {},
   "outputs": [
    {
     "name": "stdout",
     "output_type": "stream",
     "text": [
      "{'n_neighbors': 3}\n",
      "{'method': 'knreg', 'MSE_train': -18746012575.120937, 'MSE_valid': -39978290516.27935, 'MAD_train': -67738.78998082389, 'MAD_valid': -99507.14618756752, 'R2_valid': 0.9026563348313258, 'R2_train': 0.9543592446580654, 'params': '{\"n_neighbors\": 3}', 'iteration': 1, 'cv_n': 3, 'test_size': 0.09999999999999998}\n",
      "  method     MSE_train      MAD_train  R2_train     MSE_valid      MAD_valid  \\\n",
      "0    ols -1.108352e+11 -167494.258849  0.730173 -1.109501e+11 -167549.029815   \n",
      "\n",
      "   R2_valid             MSE_test      MAD_test   R2_test  \\\n",
      "0  0.729902  114249315327.194702  168154.31387  0.729155   \n",
      "\n",
      "                    params  test_size cv_n iteration  \n",
      "0  {\"fit_intercept\": true}        0.1    3         1  \n"
     ]
    },
    {
     "data": {
      "text/html": [
       "<div>\n",
       "<style scoped>\n",
       "    .dataframe tbody tr th:only-of-type {\n",
       "        vertical-align: middle;\n",
       "    }\n",
       "\n",
       "    .dataframe tbody tr th {\n",
       "        vertical-align: top;\n",
       "    }\n",
       "\n",
       "    .dataframe thead th {\n",
       "        text-align: right;\n",
       "    }\n",
       "</style>\n",
       "<table border=\"1\" class=\"dataframe\">\n",
       "  <thead>\n",
       "    <tr style=\"text-align: right;\">\n",
       "      <th></th>\n",
       "      <th>method</th>\n",
       "      <th>MSE_train</th>\n",
       "      <th>MAD_train</th>\n",
       "      <th>R2_train</th>\n",
       "      <th>MSE_valid</th>\n",
       "      <th>MAD_valid</th>\n",
       "      <th>R2_valid</th>\n",
       "      <th>MSE_test</th>\n",
       "      <th>MAD_test</th>\n",
       "      <th>R2_test</th>\n",
       "      <th>params</th>\n",
       "      <th>test_size</th>\n",
       "      <th>cv_n</th>\n",
       "      <th>iteration</th>\n",
       "    </tr>\n",
       "  </thead>\n",
       "  <tbody>\n",
       "    <tr>\n",
       "      <th>0</th>\n",
       "      <td>ols</td>\n",
       "      <td>-1.108352e+11</td>\n",
       "      <td>-167494.258849</td>\n",
       "      <td>0.730173</td>\n",
       "      <td>-1.109501e+11</td>\n",
       "      <td>-167549.029815</td>\n",
       "      <td>0.729902</td>\n",
       "      <td>114249315327.194702</td>\n",
       "      <td>168154.31387</td>\n",
       "      <td>0.729155</td>\n",
       "      <td>{\"fit_intercept\": true}</td>\n",
       "      <td>0.1</td>\n",
       "      <td>3</td>\n",
       "      <td>1</td>\n",
       "    </tr>\n",
       "    <tr>\n",
       "      <th>1</th>\n",
       "      <td>knreg</td>\n",
       "      <td>-1.874601e+10</td>\n",
       "      <td>-67738.789981</td>\n",
       "      <td>0.954359</td>\n",
       "      <td>-3.997829e+10</td>\n",
       "      <td>-99507.146188</td>\n",
       "      <td>0.902656</td>\n",
       "      <td>35755528274.089302</td>\n",
       "      <td>94426.014204</td>\n",
       "      <td>0.915236</td>\n",
       "      <td>{\"n_neighbors\": 3}</td>\n",
       "      <td>0.1</td>\n",
       "      <td>3</td>\n",
       "      <td>1</td>\n",
       "    </tr>\n",
       "  </tbody>\n",
       "</table>\n",
       "</div>"
      ],
      "text/plain": [
       "  method     MSE_train      MAD_train  R2_train     MSE_valid      MAD_valid  \\\n",
       "0    ols -1.108352e+11 -167494.258849  0.730173 -1.109501e+11 -167549.029815   \n",
       "1  knreg -1.874601e+10  -67738.789981  0.954359 -3.997829e+10  -99507.146188   \n",
       "\n",
       "   R2_valid             MSE_test      MAD_test   R2_test  \\\n",
       "0  0.729902  114249315327.194702  168154.31387  0.729155   \n",
       "1  0.902656   35755528274.089302  94426.014204  0.915236   \n",
       "\n",
       "                    params  test_size cv_n iteration  \n",
       "0  {\"fit_intercept\": true}        0.1    3         1  \n",
       "1       {\"n_neighbors\": 3}        0.1    3         1  "
      ]
     },
     "execution_count": 9,
     "metadata": {},
     "output_type": "execute_result"
    }
   ],
   "source": [
    "param_grid = {\n",
    "    'n_neighbors': [3, 7, 11],  # List of possible values for n_neighbors\n",
    "}\n",
    "grid_search_knreg = predict_num.find_best_model(\n",
    "    method=\"knreg\", param_grid=param_grid, n_jobs=5\n",
    "    )\n",
    "predict_num.summary_df\n",
    "predict_num.estimate_test(grid_search_knreg, {\"n_neighbors\": 3})\n",
    "predict_num.summary_df"
   ]
  },
  {
   "cell_type": "markdown",
   "metadata": {},
   "source": [
    "## Summary Results"
   ]
  },
  {
   "cell_type": "code",
   "execution_count": 12,
   "metadata": {},
   "outputs": [
    {
     "data": {
      "text/html": [
       "<div>\n",
       "<style scoped>\n",
       "    .dataframe tbody tr th:only-of-type {\n",
       "        vertical-align: middle;\n",
       "    }\n",
       "\n",
       "    .dataframe tbody tr th {\n",
       "        vertical-align: top;\n",
       "    }\n",
       "\n",
       "    .dataframe thead th {\n",
       "        text-align: right;\n",
       "    }\n",
       "</style>\n",
       "<table border=\"1\" class=\"dataframe\">\n",
       "  <thead>\n",
       "    <tr style=\"text-align: right;\">\n",
       "      <th></th>\n",
       "      <th>method</th>\n",
       "      <th>MSE_train</th>\n",
       "      <th>MAD_train</th>\n",
       "      <th>R2_train</th>\n",
       "      <th>MSE_valid</th>\n",
       "      <th>MAD_valid</th>\n",
       "      <th>R2_valid</th>\n",
       "      <th>MSE_test</th>\n",
       "      <th>MAD_test</th>\n",
       "      <th>R2_test</th>\n",
       "      <th>params</th>\n",
       "      <th>test_size</th>\n",
       "      <th>cv_n</th>\n",
       "      <th>iteration</th>\n",
       "    </tr>\n",
       "  </thead>\n",
       "  <tbody>\n",
       "  </tbody>\n",
       "</table>\n",
       "</div>"
      ],
      "text/plain": [
       "Empty DataFrame\n",
       "Columns: [method, MSE_train, MAD_train, R2_train, MSE_valid, MAD_valid, R2_valid, MSE_test, MAD_test, R2_test, params, test_size, cv_n, iteration]\n",
       "Index: []"
      ]
     },
     "execution_count": 12,
     "metadata": {},
     "output_type": "execute_result"
    }
   ],
   "source": [
    "predict_num.summary_df"
   ]
  }
 ],
 "metadata": {
  "kernelspec": {
   "display_name": "ml_cars",
   "language": "python",
   "name": "python3"
  },
  "language_info": {
   "codemirror_mode": {
    "name": "ipython",
    "version": 3
   },
   "file_extension": ".py",
   "mimetype": "text/x-python",
   "name": "python",
   "nbconvert_exporter": "python",
   "pygments_lexer": "ipython3",
   "version": "3.10.12"
  },
  "orig_nbformat": 4
 },
 "nbformat": 4,
 "nbformat_minor": 2
}
