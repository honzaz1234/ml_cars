{
 "cells": [
  {
   "cell_type": "code",
   "execution_count": 2,
   "metadata": {},
   "outputs": [],
   "source": [
    "#libraries\n",
    "import datetime\n",
    "import pandas as pd\n",
    "import warnings\n",
    "from transform_functions import *"
   ]
  },
  {
   "cell_type": "code",
   "execution_count": 3,
   "metadata": {},
   "outputs": [],
   "source": [
    "#set up\n",
    "#hide warnings\n",
    "warnings.filterwarnings('ignore')"
   ]
  },
  {
   "cell_type": "code",
   "execution_count": 4,
   "metadata": {},
   "outputs": [],
   "source": [
    "#accetable values for individual variables in the data set; in case the value for the variable is not in the subdictionary belonging to it it will be assign NC value and then removed from the data set for model estimation\n",
    "rename_dict = {\"drive\": {\"4x2\": \"4x2\", \"4x4\": \"4x4\"}, \n",
    "               \"car_style\": {\"Cabriolet\": \"sport\", \n",
    "                             \"Coupe\": \"sport\",\n",
    "                            \"Pick-up\": \"offroad\", \n",
    "                            \"SUV / offroad\": \"offroad\", \n",
    "                             \"Sedans / saloons\": \"sedan\", \n",
    "                             \"Compact\": \"sedan\", \n",
    "                             \"Station Wagon\": \"station_wagon\", \n",
    "                             \"MPV/VAN\": \"large\", \n",
    "                             \"Cargo VAN\": \"large\"},\n",
    "                \"emission_class\": {'Euro 1': \"old\",\n",
    "                                       \"Euro 2\": \"old\", \n",
    "                                       \"Euro 3\": \"old\", \n",
    "                                       \"Euro 4\": \"old\", \n",
    "                                       \"Euro 5a\": \"old\", \n",
    "                                       \"Euro 5b\": \"old\",  \n",
    "                                       \"Euro 6b\": \"new\", \n",
    "                                       \"Euro 6c\": \"new\", \n",
    "                                        \"Euro 6d-TEMP\": \"new\", \n",
    "                                        \"Euro 6d\": \"new\"},\n",
    "                \"door_count\": {\"2/3 doors\": \"2_3\", \n",
    "                               \"4/5 doors\": \"4_5\"},\n",
    "                \"color\": {\"Blue\": \"s\", \"Black\": \"s\",\n",
    "                             \"Beige\": \"n\", \"Brown\": \"n\", \"Gold\": \"n\", \"Green\": \"n\", \n",
    "                             \"Grey\": \"s\", \"Orange\": \"n\", \"Purple\": \"n\", \"Red\": \"n\", \n",
    "                             \"Silver\": \"s\", \"White\": \"s\", \"Yellow\": \"n\"},\n",
    "                \"fuel_type\": {\"Diesel\": \"diesel\", \"Petrol\": \"petrol\"}\n",
    "            }\n",
    "#range of values for the 3 variables in order for the observation to be included in the data set for the estimation\n",
    "filter_val = {\"cubic_capacity\": {\"min\": 0.4, \"max\": 7.3},\n",
    "              \"fuel_consumption_combined\": {\"min\": 3, \"max\": 30},\n",
    "              \"number_of_seats\": {\"min\": 1, \"max\": 10}\n",
    "}"
   ]
  },
  {
   "cell_type": "markdown",
   "metadata": {},
   "source": [
    "# Intro"
   ]
  },
  {
   "cell_type": "markdown",
   "metadata": {},
   "source": [
    "The purpose of this report is to create data set ready to be used in the used car price prediction problem based on the information gained from the initial data exploration (data_exploration report). "
   ]
  },
  {
   "cell_type": "code",
   "execution_count": 6,
   "metadata": {},
   "outputs": [],
   "source": [
    "#read data\n",
    "data = pd.read_csv(\"../data/car_data.csv\", encoding = \"ISO-8859-1\")\n",
    "data.head()\n",
    "features_df = pd.read_csv('../data/features_df.csv')"
   ]
  },
  {
   "cell_type": "code",
   "execution_count": 7,
   "metadata": {},
   "outputs": [],
   "source": [
    "#new data_frame\n",
    "cleaned_df = pd.DataFrame()\n",
    "#constants\n",
    "date_download = datetime.datetime(2023, 3, 24)"
   ]
  },
  {
   "cell_type": "markdown",
   "metadata": {},
   "source": [
    "# Power"
   ]
  },
  {
   "cell_type": "code",
   "execution_count": 30,
   "metadata": {},
   "outputs": [
    {
     "name": "stdout",
     "output_type": "stream",
     "text": [
      "count    672825.000000\n",
      "mean        128.505042\n",
      "std          68.717050\n",
      "min           4.000000\n",
      "25%          85.000000\n",
      "50%         110.000000\n",
      "75%         143.000000\n",
      "max         588.000000\n",
      "Name: power, dtype: float64\n"
     ]
    }
   ],
   "source": [
    "print(data[\"power\"].describe())\n",
    "cleaned_df[\"power\"] = data[\"power\"]"
   ]
  },
  {
   "cell_type": "markdown",
   "metadata": {},
   "source": [
    "In case of power, there are no missing values and maximum and minimum values in dataset are in reasonable range."
   ]
  },
  {
   "cell_type": "markdown",
   "metadata": {},
   "source": [
    "# Cubic Capacity"
   ]
  },
  {
   "cell_type": "code",
   "execution_count": 9,
   "metadata": {},
   "outputs": [
    {
     "name": "stdout",
     "output_type": "stream",
     "text": [
      "count    643259.000000\n",
      "mean       1760.318540\n",
      "std         695.242679\n",
      "min           0.000000\n",
      "25%        1332.000000\n",
      "50%        1598.000000\n",
      "75%        1993.000000\n",
      "max       83590.000000\n",
      "Name: cubic_capacity, dtype: float64\n"
     ]
    }
   ],
   "source": [
    "print(data[\"cubic_capacity\"].describe())\n",
    "cleaned_df[\"cubic_capacity\"] = data[\"cubic_capacity\"] / 1000"
   ]
  },
  {
   "cell_type": "markdown",
   "metadata": {},
   "source": [
    "In case of cubic capacity, there some observations with too high or too low values, so these are deleted from the data set. Additionally, I transform the variable from cubic centimetres to litres."
   ]
  },
  {
   "cell_type": "markdown",
   "metadata": {},
   "source": [
    "# Fuel Consumption"
   ]
  },
  {
   "cell_type": "code",
   "execution_count": 10,
   "metadata": {},
   "outputs": [
    {
     "name": "stdout",
     "output_type": "stream",
     "text": [
      "count    651834.000000\n",
      "mean          5.695248\n",
      "std           3.886920\n",
      "min           0.000000\n",
      "25%           4.600000\n",
      "50%           5.100000\n",
      "75%           6.100000\n",
      "max         809.000000\n",
      "Name: fuel_consumption_combined, dtype: float64\n"
     ]
    }
   ],
   "source": [
    "print(data[\"fuel_consumption_combined\"].describe())\n",
    "cleaned_df[\"fuel_consumption_combined\"] = data[\"fuel_consumption_combined\"]"
   ]
  },
  {
   "cell_type": "markdown",
   "metadata": {},
   "source": [
    "In case of fuel consumption, there can be again found values that do not makes sense so it will be necessary to filter them out of data set. Both 0 value of fuel consumption and 809 are obviously not possible. In case of fuel consumption it is hard to establish what is the possible range that this metric can attain so in the end I settled for rather arbitrary one between 3 and 30 litres per 100 kilometres."
   ]
  },
  {
   "cell_type": "markdown",
   "metadata": {},
   "source": [
    "# Carbon Dioxide Emission"
   ]
  },
  {
   "cell_type": "code",
   "execution_count": 31,
   "metadata": {},
   "outputs": [
    {
     "name": "stdout",
     "output_type": "stream",
     "text": [
      "count    672768.000000\n",
      "mean        125.463684\n",
      "std          49.364135\n",
      "min           0.000000\n",
      "25%         109.000000\n",
      "50%         125.000000\n",
      "75%         147.000000\n",
      "max        1258.000000\n",
      "Name: carbon_dioxide_emission, dtype: float64\n"
     ]
    }
   ],
   "source": [
    "print(data['carbon_dioxide_emission'].describe())"
   ]
  },
  {
   "cell_type": "markdown",
   "metadata": {},
   "source": [
    "Given that there is very similiar variable in the data set - in meaning (emission standard) and that here are many observations with obviously wrong values of carbon dioxide emission I decided to not to include the variable as predictor."
   ]
  },
  {
   "cell_type": "markdown",
   "metadata": {},
   "source": [
    "# Mileage"
   ]
  },
  {
   "cell_type": "code",
   "execution_count": 10,
   "metadata": {},
   "outputs": [
    {
     "name": "stdout",
     "output_type": "stream",
     "text": [
      "count    672826.000000\n",
      "mean      40339.856209\n",
      "std       37238.677201\n",
      "min           0.000000\n",
      "25%       10548.000000\n",
      "50%       29500.000000\n",
      "75%       60600.000000\n",
      "max      175000.000000\n",
      "Name: mileage, dtype: float64\n"
     ]
    }
   ],
   "source": [
    "print(data[\"mileage\"].describe())\n",
    "cleaned_df[\"mileage\"] = data[\"mileage\"] / 1000"
   ]
  },
  {
   "cell_type": "markdown",
   "metadata": {},
   "source": [
    "The mileage variable is transformed from kilometres to 1000s of kilometres for easier interpretation. The range of values for this variable between 0 and 175 000 seems reasonable."
   ]
  },
  {
   "cell_type": "markdown",
   "metadata": {},
   "source": [
    "# Age of Vehicle"
   ]
  },
  {
   "cell_type": "code",
   "execution_count": 35,
   "metadata": {},
   "outputs": [
    {
     "name": "stdout",
     "output_type": "stream",
     "text": [
      "count    672826.000000\n",
      "mean       1096.930957\n",
      "std         836.885046\n",
      "min          22.000000\n",
      "25%         447.000000\n",
      "50%         904.000000\n",
      "75%        1543.000000\n",
      "max        5195.000000\n",
      "Name: vehicle_age, dtype: float64\n"
     ]
    }
   ],
   "source": [
    "cleaned_df[\"vehicle_age\"] = (date_download \n",
    "                             - (pd.to_datetime(data[\"manufacture_date\"],dayfirst=True)\n",
    "                                )).dt.days\n",
    "print(cleaned_df[\"vehicle_age\"].describe())"
   ]
  },
  {
   "cell_type": "markdown",
   "metadata": {},
   "source": [
    "In case of age of vehicle, I use number of days since the vehicle manufacturing as approximation of vehicle age in the price prediction. In the data exploration part of this report I established that all the values of variable are in reasonable range for age of used vehicle so there is no need to deal with this variable further. "
   ]
  },
  {
   "cell_type": "markdown",
   "metadata": {},
   "source": [
    "# Car Maker"
   ]
  },
  {
   "cell_type": "code",
   "execution_count": 39,
   "metadata": {},
   "outputs": [
    {
     "name": "stdout",
     "output_type": "stream",
     "text": [
      "carmaker\n",
      "volkswagen       106465\n",
      "audi              67576\n",
      "bmw               66159\n",
      "mercedes_benz     61390\n",
      "ford              44615\n",
      "other_brand       39758\n",
      "opel              35301\n",
      "renault           32040\n",
      "peugeot           29501\n",
      "a_koda            26353\n",
      "seat              18423\n",
      "citroa<<n         18296\n",
      "volvo             15433\n",
      "toyota            14849\n",
      "hyundai           14724\n",
      "fiat              13927\n",
      "kia               11858\n",
      "mini              11219\n",
      "nissan             9612\n",
      "mazda              8326\n",
      "porsche            8159\n",
      "jeep               7126\n",
      "land_rover         6681\n",
      "dacia              5035\n",
      "Name: count, dtype: int64\n"
     ]
    }
   ],
   "source": [
    "brand_counts = data[\"brand\"].value_counts()\n",
    "other_counts = brand_counts[brand_counts < 5000]\n",
    "cleaned_df[\"carmaker\"] = data[\"brand\"]\n",
    "cleaned_df.loc[cleaned_df[\"carmaker\"].isin(other_counts.index), \"carmaker\"] = \"other_brand\" \n",
    "cleaned_df[\"carmaker\"] = (cleaned_df[\"carmaker\"].str.lower()\n",
    "                          .apply(remove_accents)\n",
    "                          .str.replace(\"-\", \"_\")\n",
    "                          .str.replace(\" \", \"_\"))\n",
    "if \"carmaker_bmw\" not in cleaned_df.columns:\n",
    "    col_copy = cleaned_df[\"carmaker\"]\n",
    "    cleaned_df = pd.get_dummies(cleaned_df, columns=[\"carmaker\"])\n",
    "    cleaned_df[\"carmaker\"] = col_copy\n",
    "print(cleaned_df[\"carmaker\"].value_counts())"
   ]
  },
  {
   "cell_type": "markdown",
   "metadata": {},
   "source": [
    "Given how many different car makers there are in the data set often with very low number of observations, I transform the variable, so every car maker with less than 5000 observations is grouped into single value \"other carmaker\". I also create a dummy variable for each of the values."
   ]
  },
  {
   "cell_type": "markdown",
   "metadata": {},
   "source": [
    "# Fuel Type"
   ]
  },
  {
   "cell_type": "code",
   "execution_count": 38,
   "metadata": {},
   "outputs": [
    {
     "name": "stdout",
     "output_type": "stream",
     "text": [
      "fuel_type\n",
      "petrol    331703\n",
      "diesel    246714\n",
      "NC         94409\n",
      "Name: count, dtype: int64\n"
     ]
    }
   ],
   "source": [
    "cleaned_df[\"fuel_type\"] = data[\"fuel_type\"]\n",
    "cleaned_df[\"fuel_type\"] = cleaned_df[\"fuel_type\"].apply(\n",
    "    lambda x: rename_cols(x, rename_dict[\"fuel_type\"])\n",
    "    )\n",
    "if \"fuel_type_diesel\" not in cleaned_df.columns:\n",
    "    col_copy = cleaned_df[\"fuel_type\"]\n",
    "    cleaned_df = pd.get_dummies(cleaned_df, columns=[\"fuel_type\"])\n",
    "    cleaned_df[\"fuel_type\"] = col_copy\n",
    "print(cleaned_df[\"fuel_type\"].value_counts())"
   ]
  },
  {
   "cell_type": "markdown",
   "metadata": {},
   "source": [
    "In case of fuel type, there is a lot of observations with an alternative type to engine (either electric or hybrid or gas-fueled). To make the analysis simplier because there are some variables there are incompatible for the alternative types of engine I decided to restrict my analysis only to vehicles that are power solely by gasoline or diesel. "
   ]
  },
  {
   "cell_type": "markdown",
   "metadata": {},
   "source": [
    "# Transmission Type"
   ]
  },
  {
   "cell_type": "code",
   "execution_count": 14,
   "metadata": {},
   "outputs": [
    {
     "name": "stdout",
     "output_type": "stream",
     "text": [
      "transmission\n",
      "Automatic    428868\n",
      "Manual       243958\n",
      "Name: count, dtype: int64\n"
     ]
    }
   ],
   "source": [
    "cleaned_df[\"transmission\"] = data[\"transmission\"]\n",
    "print(cleaned_df[\"transmission\"].value_counts())\n",
    "cleaned_df[\"transmission\"] = cleaned_df[\"transmission\"].str.lower()\n",
    "if \"transmission_automatic\" not in cleaned_df.columns:\n",
    "    col_copy = cleaned_df[\"transmission\"]\n",
    "    cleaned_df = pd.get_dummies(cleaned_df, columns=[\"transmission\"])\n",
    "    cleaned_df[\"transmission\"] = col_copy"
   ]
  },
  {
   "cell_type": "markdown",
   "metadata": {},
   "source": [
    "# Drive"
   ]
  },
  {
   "cell_type": "code",
   "execution_count": 15,
   "metadata": {},
   "outputs": [
    {
     "name": "stdout",
     "output_type": "stream",
     "text": [
      "drive\n",
      "4x2                  512974\n",
      "4x4                  159851\n",
      "Front wheel drive         1\n",
      "Name: count, dtype: int64\n"
     ]
    }
   ],
   "source": [
    "cleaned_df[\"drive\"] = data[\"drive\"]\n",
    "print(cleaned_df[\"drive\"].value_counts())\n",
    "cleaned_df[\"drive\"] = cleaned_df[\"drive\"].apply(\n",
    "    lambda x: rename_cols(x, rename_dict[\"drive\"])\n",
    "    )\n",
    "if \"drive_4x4\" not in cleaned_df.columns:\n",
    "    col_copy = cleaned_df[\"drive\"]\n",
    "    cleaned_df = pd.get_dummies(cleaned_df, columns=[\"drive\"])\n",
    "    cleaned_df[\"drive\"] = col_copy"
   ]
  },
  {
   "cell_type": "markdown",
   "metadata": {},
   "source": [
    "# Car Style"
   ]
  },
  {
   "cell_type": "code",
   "execution_count": 16,
   "metadata": {},
   "outputs": [
    {
     "name": "stdout",
     "output_type": "stream",
     "text": [
      "car_style\n",
      "SUV / offroad       266443\n",
      "Compact             134795\n",
      "Station Wagon       102186\n",
      "Sedans / saloons     69715\n",
      "MPV/VAN              46866\n",
      "Coupe                16841\n",
      "Cabriolet            16660\n",
      "Cargo VAN            11274\n",
      "Pick-up               3969\n",
      "Other car styles      1917\n",
      "Name: count, dtype: int64\n"
     ]
    }
   ],
   "source": [
    "cleaned_df[\"car_style\"] = data[\"car_style\"]\n",
    "print(cleaned_df[\"car_style\"].value_counts())\n",
    "cleaned_df[\"car_style\"] = cleaned_df[\"car_style\"].apply(\n",
    "    lambda x: rename_cols(x, rename_dict[\"car_style\"])\n",
    "    )\n",
    "if \"car_style_sport\" not in cleaned_df.columns:\n",
    "    col_copy = cleaned_df[\"car_style\"]\n",
    "    cleaned_df = pd.get_dummies(cleaned_df, columns=[\"car_style\"])\n",
    "    cleaned_df[\"car_style\"] = col_copy"
   ]
  },
  {
   "cell_type": "markdown",
   "metadata": {},
   "source": [
    "Given that there quite a few possible car styles to be found in our data set and in same cases two categories can not be clearly distinguished from each other (sedan can be compact at the same time), I grouped several of the categories together in a following way. Cabriolet and coupe in sport category, compact sedan/saloon into sedan category, MPV/VAN Cargo VAN into large category and, finally, SUV/ offroad and pick-up into offroad category. The remaining category Other car styles is then removed from the data set. "
   ]
  },
  {
   "cell_type": "markdown",
   "metadata": {},
   "source": [
    "# Emission Class"
   ]
  },
  {
   "cell_type": "code",
   "execution_count": 17,
   "metadata": {},
   "outputs": [
    {
     "name": "stdout",
     "output_type": "stream",
     "text": [
      "emission_class\n",
      "Euro 6d         314537\n",
      "Euro 6d-TEMP    140898\n",
      "Euro 6c          94796\n",
      "Euro 6b          91752\n",
      "Euro 5b          21097\n",
      "Euro 5a           7391\n",
      "Euro 4            2355\n",
      "Name: count, dtype: int64\n"
     ]
    }
   ],
   "source": [
    "data[\"emission_standard\"] = data[\"registration_date\"].apply(lambda x: get_emissions_standard(x))\n",
    "cleaned_df[\"emission_class\"] = data[\"emission_standard\"]\n",
    "print(cleaned_df[\"emission_class\"].value_counts())\n",
    "cleaned_df[\"emission_class\"] = cleaned_df[\"emission_class\"].apply(\n",
    "    lambda x: rename_cols(x, rename_dict[\"emission_class\"])\n",
    "    )\n",
    "if \"emission_class_old\" not in cleaned_df.columns:\n",
    "    col_copy = cleaned_df[\"emission_class\"]\n",
    "    cleaned_df = pd.get_dummies(cleaned_df, columns=[\"emission_class\"])\n",
    "    cleaned_df[\"emission_class\"] = col_copy"
   ]
  },
  {
   "cell_type": "markdown",
   "metadata": {},
   "source": [
    "In case of emission standard, there are again many different classes available in the data set but given that most of the vehicles come from last few years, there is much more vehicles with some variation of Euro 6 standard then any other. I solve this in the data set by only differentiating between new (Euro 6) and old emission standard where the variable attains 1 when it has any type of  emission standard Euro 6 and 0 otherwise."
   ]
  },
  {
   "cell_type": "markdown",
   "metadata": {},
   "source": [
    "# Door Count"
   ]
  },
  {
   "cell_type": "code",
   "execution_count": 18,
   "metadata": {},
   "outputs": [
    {
     "name": "stderr",
     "output_type": "stream",
     "text": [
      "c:\\Users\\jziac\\OneDrive\\Documents\\programovani\\projekty\\ml_cars\\reports\\functions.py:106: FutureWarning: The behavior of DataFrame concatenation with empty or all-NA entries is deprecated. In a future version, this will no longer exclude empty or all-NA columns when determining the result dtypes. To retain the old behavior, exclude the relevant entries before the concat operation.\n",
      "  log_df = pd.concat([log_df, log])\n"
     ]
    },
    {
     "name": "stdout",
     "output_type": "stream",
     "text": [
      "            model  brand  share  n_obs  n_value  n_distinct\n",
      "type                                                       \n",
      "most_other    582    582    582    582      582         582\n",
      "undecided     129    129    129    129      129         129\n"
     ]
    }
   ],
   "source": [
    "log_door_count = unify_val(df=data, col_name=\"door_count\")\n",
    "cleaned_df[\"door_count\"] = data[\"door_count\"]\n",
    "cleaned_df[\"door_count\"] = cleaned_df[\"door_count\"].apply(\n",
    "    lambda x: rename_cols(x, rename_dict[\"door_count\"])\n",
    "    )\n",
    "if \"door_count_2_3\" not in cleaned_df.columns:\n",
    "    col_copy = cleaned_df[\"door_count\"]\n",
    "    cleaned_df = pd.get_dummies(cleaned_df, columns=[\"door_count\"])\n",
    "    cleaned_df[\"door_count\"] = col_copy"
   ]
  },
  {
   "cell_type": "markdown",
   "metadata": {},
   "source": [
    "In case of door count most of the vehicles have either 2-3 or 4-5 number of doors. Since there is only a very small number of 6 or 7 door cars in our data set I remove them. Further, there are also a lot of observations with missing values, so using the fact that each model has high probability of having only either 2-3 or 4-5 doors available, I assign values of door_count to these observations in case that there are observations of same model with existing door count entry available in the data set and its distribution for the concrete model is sufficiently homogenous (95% for one value of door count) at the same time."
   ]
  },
  {
   "cell_type": "markdown",
   "metadata": {},
   "source": [
    "# Number of Seats"
   ]
  },
  {
   "cell_type": "code",
   "execution_count": 19,
   "metadata": {},
   "outputs": [
    {
     "name": "stderr",
     "output_type": "stream",
     "text": [
      "c:\\Users\\jziac\\OneDrive\\Documents\\programovani\\projekty\\ml_cars\\reports\\functions.py:106: FutureWarning: The behavior of DataFrame concatenation with empty or all-NA entries is deprecated. In a future version, this will no longer exclude empty or all-NA columns when determining the result dtypes. To retain the old behavior, exclude the relevant entries before the concat operation.\n",
      "  log_df = pd.concat([log_df, log])\n"
     ]
    },
    {
     "name": "stdout",
     "output_type": "stream",
     "text": [
      "            model  brand  share  n_obs  n_value  n_distinct\n",
      "type                                                       \n",
      "most_other    573    573    573    573      573         573\n",
      "undecided     295    295    295    295      295         295\n"
     ]
    }
   ],
   "source": [
    "log_door_count = unify_val(df=data, col_name=\"number_of_seats\")\n",
    "cleaned_df[\"number_of_seats\"] = data[\"number_of_seats\"]"
   ]
  },
  {
   "cell_type": "markdown",
   "metadata": {},
   "source": [
    "In case of number of seats, I again assign its value in case it is missing based on other observations of the same car model in the data set."
   ]
  },
  {
   "cell_type": "markdown",
   "metadata": {},
   "source": [
    "# Colour"
   ]
  },
  {
   "cell_type": "code",
   "execution_count": 20,
   "metadata": {},
   "outputs": [
    {
     "name": "stdout",
     "output_type": "stream",
     "text": [
      "color\n",
      "Grey      170285\n",
      "Black     168080\n",
      "White     137084\n",
      "Blue       69158\n",
      "Silver     40489\n",
      "Red        38534\n",
      "Green       8047\n",
      "Brown       7465\n",
      "Orange      6621\n",
      "Beige       3656\n",
      "Yellow      3475\n",
      "Gold         959\n",
      "Purple       923\n",
      "Name: count, dtype: int64\n"
     ]
    }
   ],
   "source": [
    "cleaned_df[\"color\"] = data[\"color\"]\n",
    "print(cleaned_df[\"color\"].value_counts())\n",
    "cleaned_df[\"color\"] = cleaned_df[\"color\"].apply(\n",
    "    lambda x: rename_cols(x, rename_dict[\"color\"])\n",
    "    )\n",
    "if \"color_standard\" not in cleaned_df.columns:\n",
    "    col_copy = cleaned_df[\"color\"]\n",
    "    cleaned_df = pd.get_dummies(cleaned_df, columns=[\"color\"])\n",
    "    cleaned_df[\"color\"] = col_copy"
   ]
  },
  {
   "cell_type": "markdown",
   "metadata": {},
   "source": [
    "In case of colour, there are again many different values available. Because for many of them there can be only a small number observatins found and at the same time, it can be presumed that differences between them will not be significant on average, I choose to differentiate only between standard (black, white, grey) and non standard colours. "
   ]
  },
  {
   "cell_type": "markdown",
   "metadata": {},
   "source": [
    "# Country Origin"
   ]
  },
  {
   "cell_type": "code",
   "execution_count": 21,
   "metadata": {},
   "outputs": [
    {
     "name": "stdout",
     "output_type": "stream",
     "text": [
      "country_origin\n",
      "Germany           427185\n",
      "France             99436\n",
      "Italy              48227\n",
      "Netherlands        44682\n",
      "Belgium            25970\n",
      "Sweden             10023\n",
      "Austria             6216\n",
      "Poland              3357\n",
      "Spain               2934\n",
      "Romania             2156\n",
      "Luxembourg          1916\n",
      "Slovakia             722\n",
      "Czech Republic         2\n",
      "Name: count, dtype: int64\n"
     ]
    }
   ],
   "source": [
    "cleaned_df[\"country_origin\"] = data[\"seller_country\"]\n",
    "print(cleaned_df[\"country_origin\"].value_counts())\n",
    "if \"country_origin_germany\" not in cleaned_df.columns:\n",
    "    col_copy = cleaned_df[\"country_origin\"]\n",
    "    cleaned_df = pd.get_dummies(cleaned_df, columns=[\"country_origin\"])\n",
    "    cleaned_df[\"country_origin\"] = col_copy"
   ]
  },
  {
   "cell_type": "markdown",
   "metadata": {},
   "source": [
    "# Number of Features "
   ]
  },
  {
   "cell_type": "markdown",
   "metadata": {},
   "source": [
    "Given the uncertainity of the quality of the data in regards to the features I decided to not include this variable in the final data set at all. This naturally creates limit to what the future model can learn based on the data because the level of equipement car has is only very roughly represented by other variables like for example type of vehicle (it can be expected that the sport car will be on average more equiped than for example sedan)."
   ]
  },
  {
   "cell_type": "markdown",
   "metadata": {},
   "source": [
    "# Price"
   ]
  },
  {
   "cell_type": "code",
   "execution_count": 29,
   "metadata": {},
   "outputs": [],
   "source": [
    "cleaned_df[\"price\"] = data[\"price\"]"
   ]
  },
  {
   "cell_type": "markdown",
   "metadata": {},
   "source": [
    "# Additional filters"
   ]
  },
  {
   "cell_type": "code",
   "execution_count": 23,
   "metadata": {},
   "outputs": [],
   "source": [
    "final_data = pd.DataFrame()\n",
    "final_data = cleaned_df.filter(regex=\"^(?!.*_NC).*\")\n",
    "#filter out rows with non classified values\n",
    "for col in rename_dict.keys():\n",
    "    final_data = final_data[final_data[col] != \"NC\"]\n",
    "#filter out impossible outlier values\n",
    "for col in filter_val.keys():\n",
    "    final_data = final_data[(final_data[col] >= filter_val[col][\"min\"]) & final_data[col] <= filter_val[col][\"max\"]]\n",
    "#change bool to 0-1 encoding\n",
    "for column in data.select_dtypes(include=['bool']):\n",
    "    data[column] = data[column].astype(int)\n",
    "final_data = final_data.dropna()"
   ]
  },
  {
   "cell_type": "markdown",
   "metadata": {},
   "source": [
    "In the end, I removed all rows with non classified (NC) values (values that are not directly mentioned in renamed_dict) and values that are impossible for given columns (min max range given in filter_val dict)."
   ]
  },
  {
   "cell_type": "code",
   "execution_count": 24,
   "metadata": {},
   "outputs": [],
   "source": [
    "final_data.head()\n",
    "final_data.to_csv(\"../data/data_pred.csv\", index=False)"
   ]
  }
 ],
 "metadata": {
  "kernelspec": {
   "display_name": "ml_cars",
   "language": "python",
   "name": "python3"
  },
  "language_info": {
   "codemirror_mode": {
    "name": "ipython",
    "version": 3
   },
   "file_extension": ".py",
   "mimetype": "text/x-python",
   "name": "python",
   "nbconvert_exporter": "python",
   "pygments_lexer": "ipython3",
   "version": "3.10.12"
  },
  "orig_nbformat": 4
 },
 "nbformat": 4,
 "nbformat_minor": 2
}
